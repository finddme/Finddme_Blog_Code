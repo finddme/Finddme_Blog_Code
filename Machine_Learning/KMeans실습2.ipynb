{
  "nbformat": 4,
  "nbformat_minor": 5,
  "metadata": {
    "kernelspec": {
      "display_name": "Python 3",
      "language": "python",
      "name": "python3"
    },
    "language_info": {
      "codemirror_mode": {
        "name": "ipython",
        "version": 3
      },
      "file_extension": ".py",
      "mimetype": "text/x-python",
      "name": "python",
      "nbconvert_exporter": "python",
      "pygments_lexer": "ipython3",
      "version": "3.7.10"
    },
    "toc": {
      "base_numbering": 1,
      "nav_menu": {},
      "number_sections": true,
      "sideBar": true,
      "skip_h1_title": false,
      "title_cell": "Table of Contents",
      "title_sidebar": "Contents",
      "toc_cell": true,
      "toc_position": {},
      "toc_section_display": true,
      "toc_window_display": false
    },
    "colab": {
      "name": "KMeans실습2.ipynb",
      "provenance": [],
      "include_colab_link": true
    }
  },
  "cells": [
    {
      "cell_type": "markdown",
      "metadata": {
        "id": "view-in-github",
        "colab_type": "text"
      },
      "source": [
        "<a href=\"https://colab.research.google.com/github/finddme/MachineLearning/blob/master/KMeans%EC%8B%A4%EC%8A%B52.ipynb\" target=\"_parent\"><img src=\"https://colab.research.google.com/assets/colab-badge.svg\" alt=\"Open In Colab\"/></a>"
      ]
    },
    {
      "cell_type": "markdown",
      "metadata": {
        "toc": true,
        "id": "ff9fb9b3"
      },
      "source": [
        "<h1>Table of Contents<span class=\"tocSkip\"></span></h1>\n",
        "<div class=\"toc\"><ul class=\"toc-item\"><li><span><a href=\"#K-Means-|-실습2\" data-toc-modified-id=\"K-Means-|-실습2-1\"><span class=\"toc-item-num\">1&nbsp;&nbsp;</span>K-Means | 실습2</a></span><ul class=\"toc-item\"><li><span><a href=\"#K-Means-|-실습2-|-데이터-확인\" data-toc-modified-id=\"K-Means-|-실습2-|-데이터-확인-1.1\"><span class=\"toc-item-num\">1.1&nbsp;&nbsp;</span>K-Means | 실습2 | 데이터 확인</a></span></li><li><span><a href=\"#K-Means-|-실습2-|-데이터-시각화\" data-toc-modified-id=\"K-Means-|-실습2-|-데이터-시각화-1.2\"><span class=\"toc-item-num\">1.2&nbsp;&nbsp;</span>K-Means | 실습2 | 데이터 시각화</a></span></li><li><span><a href=\"#K-Means-|-실습2-|-K-Means-수행\" data-toc-modified-id=\"K-Means-|-실습2-|-K-Means-수행-1.3\"><span class=\"toc-item-num\">1.3&nbsp;&nbsp;</span>K-Means | 실습2 | K-Means 수행</a></span></li><li><span><a href=\"#K-Means-|-실습2-|-K-Means-수행-결과-시각화\" data-toc-modified-id=\"K-Means-|-실습2-|-K-Means-수행-결과-시각화-1.4\"><span class=\"toc-item-num\">1.4&nbsp;&nbsp;</span>K-Means | 실습2 | K-Means 수행 결과 시각화</a></span></li></ul></li></ul></div>"
      ],
      "id": "ff9fb9b3"
    },
    {
      "cell_type": "markdown",
      "metadata": {
        "id": "9059f002"
      },
      "source": [
        "### K-Means | 실습2"
      ],
      "id": "9059f002"
    },
    {
      "cell_type": "code",
      "metadata": {
        "id": "abdac895"
      },
      "source": [
        "import pandas as pd\n",
        "import numpy as np\n",
        "import seaborn as sns \n",
        "from sklearn.cluster import KMeans # KMeans 리이브러리를 불러온다\n",
        "from sklearn.datasets import load_iris # scikit-learn이 제공하는 샘플데이터 iris를 불러온다.\n",
        "import matplotlib.pyplot as plt # 데이터 시각화를 위한 matplotlib을 불러온다\n",
        "%matplotlib inline"
      ],
      "id": "abdac895",
      "execution_count": null,
      "outputs": []
    },
    {
      "cell_type": "markdown",
      "metadata": {
        "id": "65c33c7c"
      },
      "source": [
        "#### K-Means | 실습2 | 데이터 확인"
      ],
      "id": "65c33c7c"
    },
    {
      "cell_type": "code",
      "metadata": {
        "id": "ca022cf8",
        "outputId": "b04cc252-1acb-4fc7-8931-026e80d65421"
      },
      "source": [
        "iris = load_iris()\n",
        "# print(iris) # 뽑아보면 key와 value로 이루어진 것을 알 수 있다.\n",
        "# Description 속성으로 데이터셋 정보를 확인한다.\n",
        "# print(iris.DESCR)\n",
        "print(iris)"
      ],
      "id": "ca022cf8",
      "execution_count": null,
      "outputs": [
        {
          "output_type": "stream",
          "text": [
            "{'data': array([[5.1, 3.5, 1.4, 0.2],\n",
            "       [4.9, 3. , 1.4, 0.2],\n",
            "       [4.7, 3.2, 1.3, 0.2],\n",
            "       [4.6, 3.1, 1.5, 0.2],\n",
            "       [5. , 3.6, 1.4, 0.2],\n",
            "       [5.4, 3.9, 1.7, 0.4],\n",
            "       [4.6, 3.4, 1.4, 0.3],\n",
            "       [5. , 3.4, 1.5, 0.2],\n",
            "       [4.4, 2.9, 1.4, 0.2],\n",
            "       [4.9, 3.1, 1.5, 0.1],\n",
            "       [5.4, 3.7, 1.5, 0.2],\n",
            "       [4.8, 3.4, 1.6, 0.2],\n",
            "       [4.8, 3. , 1.4, 0.1],\n",
            "       [4.3, 3. , 1.1, 0.1],\n",
            "       [5.8, 4. , 1.2, 0.2],\n",
            "       [5.7, 4.4, 1.5, 0.4],\n",
            "       [5.4, 3.9, 1.3, 0.4],\n",
            "       [5.1, 3.5, 1.4, 0.3],\n",
            "       [5.7, 3.8, 1.7, 0.3],\n",
            "       [5.1, 3.8, 1.5, 0.3],\n",
            "       [5.4, 3.4, 1.7, 0.2],\n",
            "       [5.1, 3.7, 1.5, 0.4],\n",
            "       [4.6, 3.6, 1. , 0.2],\n",
            "       [5.1, 3.3, 1.7, 0.5],\n",
            "       [4.8, 3.4, 1.9, 0.2],\n",
            "       [5. , 3. , 1.6, 0.2],\n",
            "       [5. , 3.4, 1.6, 0.4],\n",
            "       [5.2, 3.5, 1.5, 0.2],\n",
            "       [5.2, 3.4, 1.4, 0.2],\n",
            "       [4.7, 3.2, 1.6, 0.2],\n",
            "       [4.8, 3.1, 1.6, 0.2],\n",
            "       [5.4, 3.4, 1.5, 0.4],\n",
            "       [5.2, 4.1, 1.5, 0.1],\n",
            "       [5.5, 4.2, 1.4, 0.2],\n",
            "       [4.9, 3.1, 1.5, 0.2],\n",
            "       [5. , 3.2, 1.2, 0.2],\n",
            "       [5.5, 3.5, 1.3, 0.2],\n",
            "       [4.9, 3.6, 1.4, 0.1],\n",
            "       [4.4, 3. , 1.3, 0.2],\n",
            "       [5.1, 3.4, 1.5, 0.2],\n",
            "       [5. , 3.5, 1.3, 0.3],\n",
            "       [4.5, 2.3, 1.3, 0.3],\n",
            "       [4.4, 3.2, 1.3, 0.2],\n",
            "       [5. , 3.5, 1.6, 0.6],\n",
            "       [5.1, 3.8, 1.9, 0.4],\n",
            "       [4.8, 3. , 1.4, 0.3],\n",
            "       [5.1, 3.8, 1.6, 0.2],\n",
            "       [4.6, 3.2, 1.4, 0.2],\n",
            "       [5.3, 3.7, 1.5, 0.2],\n",
            "       [5. , 3.3, 1.4, 0.2],\n",
            "       [7. , 3.2, 4.7, 1.4],\n",
            "       [6.4, 3.2, 4.5, 1.5],\n",
            "       [6.9, 3.1, 4.9, 1.5],\n",
            "       [5.5, 2.3, 4. , 1.3],\n",
            "       [6.5, 2.8, 4.6, 1.5],\n",
            "       [5.7, 2.8, 4.5, 1.3],\n",
            "       [6.3, 3.3, 4.7, 1.6],\n",
            "       [4.9, 2.4, 3.3, 1. ],\n",
            "       [6.6, 2.9, 4.6, 1.3],\n",
            "       [5.2, 2.7, 3.9, 1.4],\n",
            "       [5. , 2. , 3.5, 1. ],\n",
            "       [5.9, 3. , 4.2, 1.5],\n",
            "       [6. , 2.2, 4. , 1. ],\n",
            "       [6.1, 2.9, 4.7, 1.4],\n",
            "       [5.6, 2.9, 3.6, 1.3],\n",
            "       [6.7, 3.1, 4.4, 1.4],\n",
            "       [5.6, 3. , 4.5, 1.5],\n",
            "       [5.8, 2.7, 4.1, 1. ],\n",
            "       [6.2, 2.2, 4.5, 1.5],\n",
            "       [5.6, 2.5, 3.9, 1.1],\n",
            "       [5.9, 3.2, 4.8, 1.8],\n",
            "       [6.1, 2.8, 4. , 1.3],\n",
            "       [6.3, 2.5, 4.9, 1.5],\n",
            "       [6.1, 2.8, 4.7, 1.2],\n",
            "       [6.4, 2.9, 4.3, 1.3],\n",
            "       [6.6, 3. , 4.4, 1.4],\n",
            "       [6.8, 2.8, 4.8, 1.4],\n",
            "       [6.7, 3. , 5. , 1.7],\n",
            "       [6. , 2.9, 4.5, 1.5],\n",
            "       [5.7, 2.6, 3.5, 1. ],\n",
            "       [5.5, 2.4, 3.8, 1.1],\n",
            "       [5.5, 2.4, 3.7, 1. ],\n",
            "       [5.8, 2.7, 3.9, 1.2],\n",
            "       [6. , 2.7, 5.1, 1.6],\n",
            "       [5.4, 3. , 4.5, 1.5],\n",
            "       [6. , 3.4, 4.5, 1.6],\n",
            "       [6.7, 3.1, 4.7, 1.5],\n",
            "       [6.3, 2.3, 4.4, 1.3],\n",
            "       [5.6, 3. , 4.1, 1.3],\n",
            "       [5.5, 2.5, 4. , 1.3],\n",
            "       [5.5, 2.6, 4.4, 1.2],\n",
            "       [6.1, 3. , 4.6, 1.4],\n",
            "       [5.8, 2.6, 4. , 1.2],\n",
            "       [5. , 2.3, 3.3, 1. ],\n",
            "       [5.6, 2.7, 4.2, 1.3],\n",
            "       [5.7, 3. , 4.2, 1.2],\n",
            "       [5.7, 2.9, 4.2, 1.3],\n",
            "       [6.2, 2.9, 4.3, 1.3],\n",
            "       [5.1, 2.5, 3. , 1.1],\n",
            "       [5.7, 2.8, 4.1, 1.3],\n",
            "       [6.3, 3.3, 6. , 2.5],\n",
            "       [5.8, 2.7, 5.1, 1.9],\n",
            "       [7.1, 3. , 5.9, 2.1],\n",
            "       [6.3, 2.9, 5.6, 1.8],\n",
            "       [6.5, 3. , 5.8, 2.2],\n",
            "       [7.6, 3. , 6.6, 2.1],\n",
            "       [4.9, 2.5, 4.5, 1.7],\n",
            "       [7.3, 2.9, 6.3, 1.8],\n",
            "       [6.7, 2.5, 5.8, 1.8],\n",
            "       [7.2, 3.6, 6.1, 2.5],\n",
            "       [6.5, 3.2, 5.1, 2. ],\n",
            "       [6.4, 2.7, 5.3, 1.9],\n",
            "       [6.8, 3. , 5.5, 2.1],\n",
            "       [5.7, 2.5, 5. , 2. ],\n",
            "       [5.8, 2.8, 5.1, 2.4],\n",
            "       [6.4, 3.2, 5.3, 2.3],\n",
            "       [6.5, 3. , 5.5, 1.8],\n",
            "       [7.7, 3.8, 6.7, 2.2],\n",
            "       [7.7, 2.6, 6.9, 2.3],\n",
            "       [6. , 2.2, 5. , 1.5],\n",
            "       [6.9, 3.2, 5.7, 2.3],\n",
            "       [5.6, 2.8, 4.9, 2. ],\n",
            "       [7.7, 2.8, 6.7, 2. ],\n",
            "       [6.3, 2.7, 4.9, 1.8],\n",
            "       [6.7, 3.3, 5.7, 2.1],\n",
            "       [7.2, 3.2, 6. , 1.8],\n",
            "       [6.2, 2.8, 4.8, 1.8],\n",
            "       [6.1, 3. , 4.9, 1.8],\n",
            "       [6.4, 2.8, 5.6, 2.1],\n",
            "       [7.2, 3. , 5.8, 1.6],\n",
            "       [7.4, 2.8, 6.1, 1.9],\n",
            "       [7.9, 3.8, 6.4, 2. ],\n",
            "       [6.4, 2.8, 5.6, 2.2],\n",
            "       [6.3, 2.8, 5.1, 1.5],\n",
            "       [6.1, 2.6, 5.6, 1.4],\n",
            "       [7.7, 3. , 6.1, 2.3],\n",
            "       [6.3, 3.4, 5.6, 2.4],\n",
            "       [6.4, 3.1, 5.5, 1.8],\n",
            "       [6. , 3. , 4.8, 1.8],\n",
            "       [6.9, 3.1, 5.4, 2.1],\n",
            "       [6.7, 3.1, 5.6, 2.4],\n",
            "       [6.9, 3.1, 5.1, 2.3],\n",
            "       [5.8, 2.7, 5.1, 1.9],\n",
            "       [6.8, 3.2, 5.9, 2.3],\n",
            "       [6.7, 3.3, 5.7, 2.5],\n",
            "       [6.7, 3. , 5.2, 2.3],\n",
            "       [6.3, 2.5, 5. , 1.9],\n",
            "       [6.5, 3. , 5.2, 2. ],\n",
            "       [6.2, 3.4, 5.4, 2.3],\n",
            "       [5.9, 3. , 5.1, 1.8]]), 'target': array([0, 0, 0, 0, 0, 0, 0, 0, 0, 0, 0, 0, 0, 0, 0, 0, 0, 0, 0, 0, 0, 0,\n",
            "       0, 0, 0, 0, 0, 0, 0, 0, 0, 0, 0, 0, 0, 0, 0, 0, 0, 0, 0, 0, 0, 0,\n",
            "       0, 0, 0, 0, 0, 0, 1, 1, 1, 1, 1, 1, 1, 1, 1, 1, 1, 1, 1, 1, 1, 1,\n",
            "       1, 1, 1, 1, 1, 1, 1, 1, 1, 1, 1, 1, 1, 1, 1, 1, 1, 1, 1, 1, 1, 1,\n",
            "       1, 1, 1, 1, 1, 1, 1, 1, 1, 1, 1, 1, 2, 2, 2, 2, 2, 2, 2, 2, 2, 2,\n",
            "       2, 2, 2, 2, 2, 2, 2, 2, 2, 2, 2, 2, 2, 2, 2, 2, 2, 2, 2, 2, 2, 2,\n",
            "       2, 2, 2, 2, 2, 2, 2, 2, 2, 2, 2, 2, 2, 2, 2, 2, 2, 2]), 'frame': None, 'target_names': array(['setosa', 'versicolor', 'virginica'], dtype='<U10'), 'DESCR': '.. _iris_dataset:\\n\\nIris plants dataset\\n--------------------\\n\\n**Data Set Characteristics:**\\n\\n    :Number of Instances: 150 (50 in each of three classes)\\n    :Number of Attributes: 4 numeric, predictive attributes and the class\\n    :Attribute Information:\\n        - sepal length in cm\\n        - sepal width in cm\\n        - petal length in cm\\n        - petal width in cm\\n        - class:\\n                - Iris-Setosa\\n                - Iris-Versicolour\\n                - Iris-Virginica\\n                \\n    :Summary Statistics:\\n\\n    ============== ==== ==== ======= ===== ====================\\n                    Min  Max   Mean    SD   Class Correlation\\n    ============== ==== ==== ======= ===== ====================\\n    sepal length:   4.3  7.9   5.84   0.83    0.7826\\n    sepal width:    2.0  4.4   3.05   0.43   -0.4194\\n    petal length:   1.0  6.9   3.76   1.76    0.9490  (high!)\\n    petal width:    0.1  2.5   1.20   0.76    0.9565  (high!)\\n    ============== ==== ==== ======= ===== ====================\\n\\n    :Missing Attribute Values: None\\n    :Class Distribution: 33.3% for each of 3 classes.\\n    :Creator: R.A. Fisher\\n    :Donor: Michael Marshall (MARSHALL%PLU@io.arc.nasa.gov)\\n    :Date: July, 1988\\n\\nThe famous Iris database, first used by Sir R.A. Fisher. The dataset is taken\\nfrom Fisher\\'s paper. Note that it\\'s the same as in R, but not as in the UCI\\nMachine Learning Repository, which has two wrong data points.\\n\\nThis is perhaps the best known database to be found in the\\npattern recognition literature.  Fisher\\'s paper is a classic in the field and\\nis referenced frequently to this day.  (See Duda & Hart, for example.)  The\\ndata set contains 3 classes of 50 instances each, where each class refers to a\\ntype of iris plant.  One class is linearly separable from the other 2; the\\nlatter are NOT linearly separable from each other.\\n\\n.. topic:: References\\n\\n   - Fisher, R.A. \"The use of multiple measurements in taxonomic problems\"\\n     Annual Eugenics, 7, Part II, 179-188 (1936); also in \"Contributions to\\n     Mathematical Statistics\" (John Wiley, NY, 1950).\\n   - Duda, R.O., & Hart, P.E. (1973) Pattern Classification and Scene Analysis.\\n     (Q327.D83) John Wiley & Sons.  ISBN 0-471-22361-1.  See page 218.\\n   - Dasarathy, B.V. (1980) \"Nosing Around the Neighborhood: A New System\\n     Structure and Classification Rule for Recognition in Partially Exposed\\n     Environments\".  IEEE Transactions on Pattern Analysis and Machine\\n     Intelligence, Vol. PAMI-2, No. 1, 67-71.\\n   - Gates, G.W. (1972) \"The Reduced Nearest Neighbor Rule\".  IEEE Transactions\\n     on Information Theory, May 1972, 431-433.\\n   - See also: 1988 MLC Proceedings, 54-64.  Cheeseman et al\"s AUTOCLASS II\\n     conceptual clustering system finds 3 classes in the data.\\n   - Many, many more ...', 'feature_names': ['sepal length (cm)', 'sepal width (cm)', 'petal length (cm)', 'petal width (cm)'], 'filename': 'C:\\\\Users\\\\yein4\\\\Anaconda3\\\\lib\\\\site-packages\\\\sklearn\\\\datasets\\\\data\\\\iris.csv'}\n"
          ],
          "name": "stdout"
        }
      ]
    },
    {
      "cell_type": "code",
      "metadata": {
        "id": "d976a8a6",
        "outputId": "f57e6f1b-a48d-46c4-d71b-1dcf03ed624b"
      },
      "source": [
        "print(\"key: \", iris.keys()) # key값을 뽑아본다."
      ],
      "id": "d976a8a6",
      "execution_count": null,
      "outputs": [
        {
          "output_type": "stream",
          "text": [
            "key:  dict_keys(['data', 'target', 'frame', 'target_names', 'DESCR', 'feature_names', 'filename'])\n"
          ],
          "name": "stdout"
        }
      ]
    },
    {
      "cell_type": "code",
      "metadata": {
        "id": "df59c7f2",
        "outputId": "721888f9-7e10-4c0d-afc5-5b67620e7072"
      },
      "source": [
        "# data라는 key에 저장된 value의 인덱스 0부터 1까지 뽑아본다.\n",
        "print(\"data: \", iris.data[0:3]) \n",
        "# feature_names라는 key에 저장된 value를 뽑아본다\n",
        "print(\"feature_names: \", iris.feature_names)"
      ],
      "id": "df59c7f2",
      "execution_count": null,
      "outputs": [
        {
          "output_type": "stream",
          "text": [
            "data:  [[5.1 3.5 1.4 0.2]\n",
            " [4.9 3.  1.4 0.2]\n",
            " [4.7 3.2 1.3 0.2]]\n",
            "feature_names:  ['sepal length (cm)', 'sepal width (cm)', 'petal length (cm)', 'petal width (cm)']\n"
          ],
          "name": "stdout"
        }
      ]
    },
    {
      "cell_type": "markdown",
      "metadata": {
        "id": "5553ad51"
      },
      "source": [
        "#### K-Means | 실습2 | 데이터 시각화"
      ],
      "id": "5553ad51"
    },
    {
      "cell_type": "code",
      "metadata": {
        "id": "8a7bd89b",
        "outputId": "5c654b11-7d14-4373-87dd-77568c26fd24"
      },
      "source": [
        "'''\n",
        "아 그 전에 데이터가 어떻게 생겼는지 시각화하여 확인 먼저 해보자.\n",
        "iris 데이터는 sepal length, sepal width, petal length, petal width \n",
        "이렇게 총 4가지 feature를 가지고 있기 때문에 2차원 평만 상에 표현하기 위해서는 \n",
        "feature의 차원을 2개로 축소시켜 줘야 한다.\n",
        "즉, 150 rows x 4 column -> 150 x 2로 만들어 줘야 한다.\n",
        "4개의 feature를 2개로 축소하기 위해 PCA(Principal Component Analysis)를 사용하겠다.\n",
        "'''\n",
        "from sklearn.decomposition import PCA\n",
        "\n",
        "# PCA를 위한 데이터프레임을 다시 만들어보자\n",
        "iris_PCA_DF = pd.DataFrame(data = iris.data, columns = iris.feature_names)\n",
        "\n",
        "# 출력 dimension을 설정한다. 여기에서는 2차원으로 출력을 원하니까 2.\n",
        "pca = PCA(n_components = 2) \n",
        "# PCA의 fit_transform 속성을 이용해 축소할 데이터를 넣는다.\n",
        "pca_transformed = pca.fit_transform(iris.data)\n",
        "\n",
        "# pca_transformed의 인덱스 0과 1을 각각 pca_x, pca_y라는 이름으로 데이터프레임에 추가해준다.\n",
        "iris_PCA_DF['pca_x'] = pca_transformed[:,0]\n",
        "iris_PCA_DF['pca_y'] = pca_transformed[:,1]\n",
        "# iris의 종류를 나타내는 target을 데이터프레임에 추가해준다.\n",
        "iris_PCA_DF['target'] = iris.target\n",
        "\n",
        "# iris.target은 iris의 종류를 0, 1, 2로 표현한 데이터이다.\n",
        "# iris.target_names로 iris 이름을 확인할 수 있다.\n",
        "# 이름을 종류와 매핑해준다.\n",
        "mappingDF = {0: 'Setosa', 1: 'Versicolour', 2: 'Virginica'}\n",
        "# 데이터 프레임의 'target'값이 x에 들어가서 x가 0이면 mappingDF의 키값 0의 value값이 매핑된다.\n",
        "iris_PCA_DF['target'] = iris_PCA_DF['target'].map(lambda x : mappingDF[x])\n",
        "\n",
        "iris_PCA_DF.sample(5)\n"
      ],
      "id": "8a7bd89b",
      "execution_count": null,
      "outputs": [
        {
          "output_type": "execute_result",
          "data": {
            "text/html": [
              "<div>\n",
              "<style scoped>\n",
              "    .dataframe tbody tr th:only-of-type {\n",
              "        vertical-align: middle;\n",
              "    }\n",
              "\n",
              "    .dataframe tbody tr th {\n",
              "        vertical-align: top;\n",
              "    }\n",
              "\n",
              "    .dataframe thead th {\n",
              "        text-align: right;\n",
              "    }\n",
              "</style>\n",
              "<table border=\"1\" class=\"dataframe\">\n",
              "  <thead>\n",
              "    <tr style=\"text-align: right;\">\n",
              "      <th></th>\n",
              "      <th>sepal length (cm)</th>\n",
              "      <th>sepal width (cm)</th>\n",
              "      <th>petal length (cm)</th>\n",
              "      <th>petal width (cm)</th>\n",
              "      <th>pca_x</th>\n",
              "      <th>pca_y</th>\n",
              "      <th>target</th>\n",
              "    </tr>\n",
              "  </thead>\n",
              "  <tbody>\n",
              "    <tr>\n",
              "      <th>56</th>\n",
              "      <td>6.3</td>\n",
              "      <td>3.3</td>\n",
              "      <td>4.7</td>\n",
              "      <td>1.6</td>\n",
              "      <td>1.095061</td>\n",
              "      <td>0.283468</td>\n",
              "      <td>Versicolour</td>\n",
              "    </tr>\n",
              "    <tr>\n",
              "      <th>143</th>\n",
              "      <td>6.8</td>\n",
              "      <td>3.2</td>\n",
              "      <td>5.9</td>\n",
              "      <td>2.3</td>\n",
              "      <td>2.563013</td>\n",
              "      <td>0.277863</td>\n",
              "      <td>Virginica</td>\n",
              "    </tr>\n",
              "    <tr>\n",
              "      <th>73</th>\n",
              "      <td>6.1</td>\n",
              "      <td>2.8</td>\n",
              "      <td>4.7</td>\n",
              "      <td>1.2</td>\n",
              "      <td>0.921729</td>\n",
              "      <td>-0.182738</td>\n",
              "      <td>Versicolour</td>\n",
              "    </tr>\n",
              "    <tr>\n",
              "      <th>64</th>\n",
              "      <td>5.6</td>\n",
              "      <td>2.9</td>\n",
              "      <td>3.6</td>\n",
              "      <td>1.3</td>\n",
              "      <td>-0.173925</td>\n",
              "      <td>-0.254854</td>\n",
              "      <td>Versicolour</td>\n",
              "    </tr>\n",
              "    <tr>\n",
              "      <th>91</th>\n",
              "      <td>6.1</td>\n",
              "      <td>3.0</td>\n",
              "      <td>4.6</td>\n",
              "      <td>1.4</td>\n",
              "      <td>0.890815</td>\n",
              "      <td>-0.034464</td>\n",
              "      <td>Versicolour</td>\n",
              "    </tr>\n",
              "  </tbody>\n",
              "</table>\n",
              "</div>"
            ],
            "text/plain": [
              "     sepal length (cm)  sepal width (cm)  petal length (cm)  petal width (cm)  \\\n",
              "56                 6.3               3.3                4.7               1.6   \n",
              "143                6.8               3.2                5.9               2.3   \n",
              "73                 6.1               2.8                4.7               1.2   \n",
              "64                 5.6               2.9                3.6               1.3   \n",
              "91                 6.1               3.0                4.6               1.4   \n",
              "\n",
              "        pca_x     pca_y       target  \n",
              "56   1.095061  0.283468  Versicolour  \n",
              "143  2.563013  0.277863    Virginica  \n",
              "73   0.921729 -0.182738  Versicolour  \n",
              "64  -0.173925 -0.254854  Versicolour  \n",
              "91   0.890815 -0.034464  Versicolour  "
            ]
          },
          "metadata": {
            "tags": []
          },
          "execution_count": 15
        }
      ]
    },
    {
      "cell_type": "code",
      "metadata": {
        "id": "6d144a24",
        "outputId": "8e50cc4d-b76a-47e2-9138-3c70fa3df0ac"
      },
      "source": [
        "# target을 고려하지 않았을 때 데이터의 분포는 아래와 같다:\n",
        "sns.lmplot('pca_x','pca_y', data= iris_PCA_DF, fit_reg=False, scatter_kws={'s': 100})"
      ],
      "id": "6d144a24",
      "execution_count": null,
      "outputs": [
        {
          "output_type": "stream",
          "text": [
            "C:\\Users\\yein4\\Anaconda3\\lib\\site-packages\\seaborn\\_decorators.py:43: FutureWarning: Pass the following variables as keyword args: x, y. From version 0.12, the only valid positional argument will be `data`, and passing other arguments without an explicit keyword will result in an error or misinterpretation.\n",
            "  FutureWarning\n"
          ],
          "name": "stderr"
        },
        {
          "output_type": "execute_result",
          "data": {
            "text/plain": [
              "<seaborn.axisgrid.FacetGrid at 0x239a53ec848>"
            ]
          },
          "metadata": {
            "tags": []
          },
          "execution_count": 16
        },
        {
          "output_type": "display_data",
          "data": {
            "image/png": "[encoded data removed]",
            "text/plain": [
              "<Figure size 360x360 with 1 Axes>"
            ]
          },
          "metadata": {
            "tags": [],
            "needs_background": "light"
          }
        }
      ]
    },
    {
      "cell_type": "code",
      "metadata": {
        "id": "a5560835",
        "outputId": "2a129e6d-c603-4984-a912-e77882e40dce"
      },
      "source": [
        "# target값을 고려해서 각 데이터의 이름이 반영되면 아래와 같아진다:\n",
        "sns.scatterplot(x= 'pca_x', y = 'pca_y', data= iris_PCA_DF, hue=iris_PCA_DF['target'], s = 100)"
      ],
      "id": "a5560835",
      "execution_count": null,
      "outputs": [
        {
          "output_type": "execute_result",
          "data": {
            "text/plain": [
              "<AxesSubplot:xlabel='pca_x', ylabel='pca_y'>"
            ]
          },
          "metadata": {
            "tags": []
          },
          "execution_count": 17
        },
        {
          "output_type": "display_data",
          "data": {
            "image/png": "[encoded data removed]",
            "text/plain": [
              "<Figure size 432x288 with 1 Axes>"
            ]
          },
          "metadata": {
            "tags": [],
            "needs_background": "light"
          }
        }
      ]
    },
    {
      "cell_type": "markdown",
      "metadata": {
        "id": "0c1e555e"
      },
      "source": [
        "#### K-Means | 실습2 | K-Means 수행"
      ],
      "id": "0c1e555e"
    },
    {
      "cell_type": "code",
      "metadata": {
        "id": "876ee3db",
        "outputId": "84ec9b1b-0b68-4842-c9c1-e4089de3aef2"
      },
      "source": [
        "# 이제 K-Means를 수행할 데이터프레임을 만들어보자\n",
        "iris_KM_DF = pd.DataFrame(data = iris.data, columns = iris.feature_names)\n",
        "print(iris_KM_DF.sample(5)) # 데이터프레임 5개만 뽑아서 확인해보자"
      ],
      "id": "876ee3db",
      "execution_count": null,
      "outputs": [
        {
          "output_type": "stream",
          "text": [
            "     sepal length (cm)  sepal width (cm)  petal length (cm)  petal width (cm)\n",
            "88                 5.6               3.0                4.1               1.3\n",
            "137                6.4               3.1                5.5               1.8\n",
            "89                 5.5               2.5                4.0               1.3\n",
            "21                 5.1               3.7                1.5               0.4\n",
            "87                 6.3               2.3                4.4               1.3\n"
          ],
          "name": "stdout"
        }
      ]
    },
    {
      "cell_type": "code",
      "metadata": {
        "id": "b069a706"
      },
      "source": [
        "# KMeans 라이브러리의 파라미터로 군집 개수, 최대 반복 횟수를 정해준다.\n",
        "# iris데이터에서 종류는 3개니까 군집은 3개로, 최대 500번 돌고\n",
        "# iris_DF라는 데이터프레임에 대해서 군집화를 시킨다.\n",
        "kmeans1 = KMeans(n_clusters = 3, max_iter = 500, random_state = None).fit(iris_KM_DF)"
      ],
      "id": "b069a706",
      "execution_count": null,
      "outputs": []
    },
    {
      "cell_type": "code",
      "metadata": {
        "id": "4ac78b33",
        "outputId": "283ae434-0b66-4fec-a269-8d80ff61cc57"
      },
      "source": [
        "kmeans1.cluster_centers_ # 각 클러스터들의 중심 위치를 뽑아본다."
      ],
      "id": "4ac78b33",
      "execution_count": null,
      "outputs": [
        {
          "output_type": "execute_result",
          "data": {
            "text/plain": [
              "array([[5.9016129 , 2.7483871 , 4.39354839, 1.43387097],\n",
              "       [5.006     , 3.428     , 1.462     , 0.246     ],\n",
              "       [6.85      , 3.07368421, 5.74210526, 2.07105263]])"
            ]
          },
          "metadata": {
            "tags": []
          },
          "execution_count": 20
        }
      ]
    },
    {
      "cell_type": "code",
      "metadata": {
        "id": "680593f7",
        "outputId": "5e5ea9f7-8d1d-4752-bedd-e6d55977167a"
      },
      "source": [
        "# kmeans를 수행했으니까 각 데이터들이 속한 클러스터를 확인해보자\n",
        "# 각 데이터의 인덱스에 해당 데이터의 소속 클러스터가 결과로 나온다.\n",
        "kmeans1.labels_"
      ],
      "id": "680593f7",
      "execution_count": null,
      "outputs": [
        {
          "output_type": "execute_result",
          "data": {
            "text/plain": [
              "array([1, 1, 1, 1, 1, 1, 1, 1, 1, 1, 1, 1, 1, 1, 1, 1, 1, 1, 1, 1, 1, 1,\n",
              "       1, 1, 1, 1, 1, 1, 1, 1, 1, 1, 1, 1, 1, 1, 1, 1, 1, 1, 1, 1, 1, 1,\n",
              "       1, 1, 1, 1, 1, 1, 0, 0, 2, 0, 0, 0, 0, 0, 0, 0, 0, 0, 0, 0, 0, 0,\n",
              "       0, 0, 0, 0, 0, 0, 0, 0, 0, 0, 0, 2, 0, 0, 0, 0, 0, 0, 0, 0, 0, 0,\n",
              "       0, 0, 0, 0, 0, 0, 0, 0, 0, 0, 0, 0, 2, 0, 2, 2, 2, 2, 0, 2, 2, 2,\n",
              "       2, 2, 2, 0, 0, 2, 2, 2, 2, 0, 2, 0, 2, 0, 2, 2, 0, 0, 2, 2, 2, 2,\n",
              "       2, 0, 2, 2, 2, 2, 0, 2, 2, 2, 0, 2, 2, 2, 0, 2, 2, 0])"
            ]
          },
          "metadata": {
            "tags": []
          },
          "execution_count": 21
        }
      ]
    },
    {
      "cell_type": "code",
      "metadata": {
        "id": "690889cc",
        "outputId": "04778ed7-7a3d-4f8b-d43e-f088b29d74cb"
      },
      "source": [
        "# 데이터 프레임에 cluster라는 이름으로 각 데이터의 클러스터 결과를 넣어준다.\n",
        "iris_KM_DF['cluster'] = kmeans1.labels_\n",
        "# 데이터 프레임 인덱스 0부터 150까지 15씩 스탭한 결과를 출력해본다.\n",
        "# (head를 뽑으면 앞쪽이 다 0이라 중간중간 결과들을 확인하기 위해)\n",
        "iris_KM_DF[0:150:15]\n",
        "# 총 3개의 클러스터가 존재하는 것을 확인할 수 있다."
      ],
      "id": "690889cc",
      "execution_count": null,
      "outputs": [
        {
          "output_type": "execute_result",
          "data": {
            "text/html": [
              "<div>\n",
              "<style scoped>\n",
              "    .dataframe tbody tr th:only-of-type {\n",
              "        vertical-align: middle;\n",
              "    }\n",
              "\n",
              "    .dataframe tbody tr th {\n",
              "        vertical-align: top;\n",
              "    }\n",
              "\n",
              "    .dataframe thead th {\n",
              "        text-align: right;\n",
              "    }\n",
              "</style>\n",
              "<table border=\"1\" class=\"dataframe\">\n",
              "  <thead>\n",
              "    <tr style=\"text-align: right;\">\n",
              "      <th></th>\n",
              "      <th>sepal length (cm)</th>\n",
              "      <th>sepal width (cm)</th>\n",
              "      <th>petal length (cm)</th>\n",
              "      <th>petal width (cm)</th>\n",
              "      <th>cluster</th>\n",
              "    </tr>\n",
              "  </thead>\n",
              "  <tbody>\n",
              "    <tr>\n",
              "      <th>0</th>\n",
              "      <td>5.1</td>\n",
              "      <td>3.5</td>\n",
              "      <td>1.4</td>\n",
              "      <td>0.2</td>\n",
              "      <td>1</td>\n",
              "    </tr>\n",
              "    <tr>\n",
              "      <th>15</th>\n",
              "      <td>5.7</td>\n",
              "      <td>4.4</td>\n",
              "      <td>1.5</td>\n",
              "      <td>0.4</td>\n",
              "      <td>1</td>\n",
              "    </tr>\n",
              "    <tr>\n",
              "      <th>30</th>\n",
              "      <td>4.8</td>\n",
              "      <td>3.1</td>\n",
              "      <td>1.6</td>\n",
              "      <td>0.2</td>\n",
              "      <td>1</td>\n",
              "    </tr>\n",
              "    <tr>\n",
              "      <th>45</th>\n",
              "      <td>4.8</td>\n",
              "      <td>3.0</td>\n",
              "      <td>1.4</td>\n",
              "      <td>0.3</td>\n",
              "      <td>1</td>\n",
              "    </tr>\n",
              "    <tr>\n",
              "      <th>60</th>\n",
              "      <td>5.0</td>\n",
              "      <td>2.0</td>\n",
              "      <td>3.5</td>\n",
              "      <td>1.0</td>\n",
              "      <td>0</td>\n",
              "    </tr>\n",
              "    <tr>\n",
              "      <th>75</th>\n",
              "      <td>6.6</td>\n",
              "      <td>3.0</td>\n",
              "      <td>4.4</td>\n",
              "      <td>1.4</td>\n",
              "      <td>0</td>\n",
              "    </tr>\n",
              "    <tr>\n",
              "      <th>90</th>\n",
              "      <td>5.5</td>\n",
              "      <td>2.6</td>\n",
              "      <td>4.4</td>\n",
              "      <td>1.2</td>\n",
              "      <td>0</td>\n",
              "    </tr>\n",
              "    <tr>\n",
              "      <th>105</th>\n",
              "      <td>7.6</td>\n",
              "      <td>3.0</td>\n",
              "      <td>6.6</td>\n",
              "      <td>2.1</td>\n",
              "      <td>2</td>\n",
              "    </tr>\n",
              "    <tr>\n",
              "      <th>120</th>\n",
              "      <td>6.9</td>\n",
              "      <td>3.2</td>\n",
              "      <td>5.7</td>\n",
              "      <td>2.3</td>\n",
              "      <td>2</td>\n",
              "    </tr>\n",
              "    <tr>\n",
              "      <th>135</th>\n",
              "      <td>7.7</td>\n",
              "      <td>3.0</td>\n",
              "      <td>6.1</td>\n",
              "      <td>2.3</td>\n",
              "      <td>2</td>\n",
              "    </tr>\n",
              "  </tbody>\n",
              "</table>\n",
              "</div>"
            ],
            "text/plain": [
              "     sepal length (cm)  sepal width (cm)  petal length (cm)  petal width (cm)  \\\n",
              "0                  5.1               3.5                1.4               0.2   \n",
              "15                 5.7               4.4                1.5               0.4   \n",
              "30                 4.8               3.1                1.6               0.2   \n",
              "45                 4.8               3.0                1.4               0.3   \n",
              "60                 5.0               2.0                3.5               1.0   \n",
              "75                 6.6               3.0                4.4               1.4   \n",
              "90                 5.5               2.6                4.4               1.2   \n",
              "105                7.6               3.0                6.6               2.1   \n",
              "120                6.9               3.2                5.7               2.3   \n",
              "135                7.7               3.0                6.1               2.3   \n",
              "\n",
              "     cluster  \n",
              "0          1  \n",
              "15         1  \n",
              "30         1  \n",
              "45         1  \n",
              "60         0  \n",
              "75         0  \n",
              "90         0  \n",
              "105        2  \n",
              "120        2  \n",
              "135        2  "
            ]
          },
          "metadata": {
            "tags": []
          },
          "execution_count": 22
        }
      ]
    },
    {
      "cell_type": "code",
      "metadata": {
        "id": "873cbe8e",
        "outputId": "098394c2-d35c-43d7-902b-0d03dc670abf"
      },
      "source": [
        "# target값은 정답값이다.\n",
        "# 클러스터링 결과를 대충 비교해보기 위해 데이터프레임에 넣어본다.\n",
        "iris_KM_DF['target'] = iris.target\n",
        "iris_KM_DF[10:150:15]"
      ],
      "id": "873cbe8e",
      "execution_count": null,
      "outputs": [
        {
          "output_type": "execute_result",
          "data": {
            "text/html": [
              "<div>\n",
              "<style scoped>\n",
              "    .dataframe tbody tr th:only-of-type {\n",
              "        vertical-align: middle;\n",
              "    }\n",
              "\n",
              "    .dataframe tbody tr th {\n",
              "        vertical-align: top;\n",
              "    }\n",
              "\n",
              "    .dataframe thead th {\n",
              "        text-align: right;\n",
              "    }\n",
              "</style>\n",
              "<table border=\"1\" class=\"dataframe\">\n",
              "  <thead>\n",
              "    <tr style=\"text-align: right;\">\n",
              "      <th></th>\n",
              "      <th>sepal length (cm)</th>\n",
              "      <th>sepal width (cm)</th>\n",
              "      <th>petal length (cm)</th>\n",
              "      <th>petal width (cm)</th>\n",
              "      <th>cluster</th>\n",
              "      <th>target</th>\n",
              "    </tr>\n",
              "  </thead>\n",
              "  <tbody>\n",
              "    <tr>\n",
              "      <th>10</th>\n",
              "      <td>5.4</td>\n",
              "      <td>3.7</td>\n",
              "      <td>1.5</td>\n",
              "      <td>0.2</td>\n",
              "      <td>1</td>\n",
              "      <td>0</td>\n",
              "    </tr>\n",
              "    <tr>\n",
              "      <th>25</th>\n",
              "      <td>5.0</td>\n",
              "      <td>3.0</td>\n",
              "      <td>1.6</td>\n",
              "      <td>0.2</td>\n",
              "      <td>1</td>\n",
              "      <td>0</td>\n",
              "    </tr>\n",
              "    <tr>\n",
              "      <th>40</th>\n",
              "      <td>5.0</td>\n",
              "      <td>3.5</td>\n",
              "      <td>1.3</td>\n",
              "      <td>0.3</td>\n",
              "      <td>1</td>\n",
              "      <td>0</td>\n",
              "    </tr>\n",
              "    <tr>\n",
              "      <th>55</th>\n",
              "      <td>5.7</td>\n",
              "      <td>2.8</td>\n",
              "      <td>4.5</td>\n",
              "      <td>1.3</td>\n",
              "      <td>0</td>\n",
              "      <td>1</td>\n",
              "    </tr>\n",
              "    <tr>\n",
              "      <th>70</th>\n",
              "      <td>5.9</td>\n",
              "      <td>3.2</td>\n",
              "      <td>4.8</td>\n",
              "      <td>1.8</td>\n",
              "      <td>0</td>\n",
              "      <td>1</td>\n",
              "    </tr>\n",
              "    <tr>\n",
              "      <th>85</th>\n",
              "      <td>6.0</td>\n",
              "      <td>3.4</td>\n",
              "      <td>4.5</td>\n",
              "      <td>1.6</td>\n",
              "      <td>0</td>\n",
              "      <td>1</td>\n",
              "    </tr>\n",
              "    <tr>\n",
              "      <th>100</th>\n",
              "      <td>6.3</td>\n",
              "      <td>3.3</td>\n",
              "      <td>6.0</td>\n",
              "      <td>2.5</td>\n",
              "      <td>2</td>\n",
              "      <td>2</td>\n",
              "    </tr>\n",
              "    <tr>\n",
              "      <th>115</th>\n",
              "      <td>6.4</td>\n",
              "      <td>3.2</td>\n",
              "      <td>5.3</td>\n",
              "      <td>2.3</td>\n",
              "      <td>2</td>\n",
              "      <td>2</td>\n",
              "    </tr>\n",
              "    <tr>\n",
              "      <th>130</th>\n",
              "      <td>7.4</td>\n",
              "      <td>2.8</td>\n",
              "      <td>6.1</td>\n",
              "      <td>1.9</td>\n",
              "      <td>2</td>\n",
              "      <td>2</td>\n",
              "    </tr>\n",
              "    <tr>\n",
              "      <th>145</th>\n",
              "      <td>6.7</td>\n",
              "      <td>3.0</td>\n",
              "      <td>5.2</td>\n",
              "      <td>2.3</td>\n",
              "      <td>2</td>\n",
              "      <td>2</td>\n",
              "    </tr>\n",
              "  </tbody>\n",
              "</table>\n",
              "</div>"
            ],
            "text/plain": [
              "     sepal length (cm)  sepal width (cm)  petal length (cm)  petal width (cm)  \\\n",
              "10                 5.4               3.7                1.5               0.2   \n",
              "25                 5.0               3.0                1.6               0.2   \n",
              "40                 5.0               3.5                1.3               0.3   \n",
              "55                 5.7               2.8                4.5               1.3   \n",
              "70                 5.9               3.2                4.8               1.8   \n",
              "85                 6.0               3.4                4.5               1.6   \n",
              "100                6.3               3.3                6.0               2.5   \n",
              "115                6.4               3.2                5.3               2.3   \n",
              "130                7.4               2.8                6.1               1.9   \n",
              "145                6.7               3.0                5.2               2.3   \n",
              "\n",
              "     cluster  target  \n",
              "10         1       0  \n",
              "25         1       0  \n",
              "40         1       0  \n",
              "55         0       1  \n",
              "70         0       1  \n",
              "85         0       1  \n",
              "100        2       2  \n",
              "115        2       2  \n",
              "130        2       2  \n",
              "145        2       2  "
            ]
          },
          "metadata": {
            "tags": []
          },
          "execution_count": 23
        }
      ]
    },
    {
      "cell_type": "code",
      "metadata": {
        "id": "3375c8b6",
        "outputId": "bfe0b09c-2afb-49a0-ab86-4e773fad3455"
      },
      "source": [
        "mappingDF = {0: 'Setosa', 1: 'Versicolour', 2: 'Virginica'}\n",
        "# 데이터 프레임의 'target'값이 x에 들어가서 x가 0이면 mappingDF의 키값 0의 value값이 매핑된다.\n",
        "iris_KM_DF['target'] = iris_KM_DF['target'].map(lambda x : mappingDF[x])\n",
        "iris_KM_DF[10:150:15]\n",
        "# 대충 봐도 클러스터링 결과와 정답값이 잘 맞는 것 같다."
      ],
      "id": "3375c8b6",
      "execution_count": null,
      "outputs": [
        {
          "output_type": "execute_result",
          "data": {
            "text/html": [
              "<div>\n",
              "<style scoped>\n",
              "    .dataframe tbody tr th:only-of-type {\n",
              "        vertical-align: middle;\n",
              "    }\n",
              "\n",
              "    .dataframe tbody tr th {\n",
              "        vertical-align: top;\n",
              "    }\n",
              "\n",
              "    .dataframe thead th {\n",
              "        text-align: right;\n",
              "    }\n",
              "</style>\n",
              "<table border=\"1\" class=\"dataframe\">\n",
              "  <thead>\n",
              "    <tr style=\"text-align: right;\">\n",
              "      <th></th>\n",
              "      <th>sepal length (cm)</th>\n",
              "      <th>sepal width (cm)</th>\n",
              "      <th>petal length (cm)</th>\n",
              "      <th>petal width (cm)</th>\n",
              "      <th>cluster</th>\n",
              "      <th>target</th>\n",
              "    </tr>\n",
              "  </thead>\n",
              "  <tbody>\n",
              "    <tr>\n",
              "      <th>10</th>\n",
              "      <td>5.4</td>\n",
              "      <td>3.7</td>\n",
              "      <td>1.5</td>\n",
              "      <td>0.2</td>\n",
              "      <td>1</td>\n",
              "      <td>Setosa</td>\n",
              "    </tr>\n",
              "    <tr>\n",
              "      <th>25</th>\n",
              "      <td>5.0</td>\n",
              "      <td>3.0</td>\n",
              "      <td>1.6</td>\n",
              "      <td>0.2</td>\n",
              "      <td>1</td>\n",
              "      <td>Setosa</td>\n",
              "    </tr>\n",
              "    <tr>\n",
              "      <th>40</th>\n",
              "      <td>5.0</td>\n",
              "      <td>3.5</td>\n",
              "      <td>1.3</td>\n",
              "      <td>0.3</td>\n",
              "      <td>1</td>\n",
              "      <td>Setosa</td>\n",
              "    </tr>\n",
              "    <tr>\n",
              "      <th>55</th>\n",
              "      <td>5.7</td>\n",
              "      <td>2.8</td>\n",
              "      <td>4.5</td>\n",
              "      <td>1.3</td>\n",
              "      <td>0</td>\n",
              "      <td>Versicolour</td>\n",
              "    </tr>\n",
              "    <tr>\n",
              "      <th>70</th>\n",
              "      <td>5.9</td>\n",
              "      <td>3.2</td>\n",
              "      <td>4.8</td>\n",
              "      <td>1.8</td>\n",
              "      <td>0</td>\n",
              "      <td>Versicolour</td>\n",
              "    </tr>\n",
              "    <tr>\n",
              "      <th>85</th>\n",
              "      <td>6.0</td>\n",
              "      <td>3.4</td>\n",
              "      <td>4.5</td>\n",
              "      <td>1.6</td>\n",
              "      <td>0</td>\n",
              "      <td>Versicolour</td>\n",
              "    </tr>\n",
              "    <tr>\n",
              "      <th>100</th>\n",
              "      <td>6.3</td>\n",
              "      <td>3.3</td>\n",
              "      <td>6.0</td>\n",
              "      <td>2.5</td>\n",
              "      <td>2</td>\n",
              "      <td>Virginica</td>\n",
              "    </tr>\n",
              "    <tr>\n",
              "      <th>115</th>\n",
              "      <td>6.4</td>\n",
              "      <td>3.2</td>\n",
              "      <td>5.3</td>\n",
              "      <td>2.3</td>\n",
              "      <td>2</td>\n",
              "      <td>Virginica</td>\n",
              "    </tr>\n",
              "    <tr>\n",
              "      <th>130</th>\n",
              "      <td>7.4</td>\n",
              "      <td>2.8</td>\n",
              "      <td>6.1</td>\n",
              "      <td>1.9</td>\n",
              "      <td>2</td>\n",
              "      <td>Virginica</td>\n",
              "    </tr>\n",
              "    <tr>\n",
              "      <th>145</th>\n",
              "      <td>6.7</td>\n",
              "      <td>3.0</td>\n",
              "      <td>5.2</td>\n",
              "      <td>2.3</td>\n",
              "      <td>2</td>\n",
              "      <td>Virginica</td>\n",
              "    </tr>\n",
              "  </tbody>\n",
              "</table>\n",
              "</div>"
            ],
            "text/plain": [
              "     sepal length (cm)  sepal width (cm)  petal length (cm)  petal width (cm)  \\\n",
              "10                 5.4               3.7                1.5               0.2   \n",
              "25                 5.0               3.0                1.6               0.2   \n",
              "40                 5.0               3.5                1.3               0.3   \n",
              "55                 5.7               2.8                4.5               1.3   \n",
              "70                 5.9               3.2                4.8               1.8   \n",
              "85                 6.0               3.4                4.5               1.6   \n",
              "100                6.3               3.3                6.0               2.5   \n",
              "115                6.4               3.2                5.3               2.3   \n",
              "130                7.4               2.8                6.1               1.9   \n",
              "145                6.7               3.0                5.2               2.3   \n",
              "\n",
              "     cluster       target  \n",
              "10         1       Setosa  \n",
              "25         1       Setosa  \n",
              "40         1       Setosa  \n",
              "55         0  Versicolour  \n",
              "70         0  Versicolour  \n",
              "85         0  Versicolour  \n",
              "100        2    Virginica  \n",
              "115        2    Virginica  \n",
              "130        2    Virginica  \n",
              "145        2    Virginica  "
            ]
          },
          "metadata": {
            "tags": []
          },
          "execution_count": 24
        }
      ]
    },
    {
      "cell_type": "code",
      "metadata": {
        "id": "39247700",
        "outputId": "71b4c58f-f047-404c-a14b-f7caaa4df5b5"
      },
      "source": [
        "# 각 target에 대해 어떤 클러스터 결과가 존재하는지, 클러스터링 결과는 몇개인지 확인해보자\n",
        "iris_result = iris_KM_DF.groupby(['target','cluster'])['sepal length (cm)'].count()\n",
        "print(iris_result)\n",
        "# 몇개는 군집화가 잘못 됐지만 거의 잘 된 것으로 확인된다."
      ],
      "id": "39247700",
      "execution_count": null,
      "outputs": [
        {
          "output_type": "stream",
          "text": [
            "target       cluster\n",
            "Setosa       1          50\n",
            "Versicolour  0          48\n",
            "             2           2\n",
            "Virginica    0          14\n",
            "             2          36\n",
            "Name: sepal length (cm), dtype: int64\n"
          ],
          "name": "stdout"
        }
      ]
    },
    {
      "cell_type": "code",
      "metadata": {
        "id": "59a54a61",
        "outputId": "dc3d5977-8e25-463a-abab-ba20eb9448fb"
      },
      "source": [
        "# 위 과정을 함수로 만들어서 한번에 실행해보자\n",
        "def KMEANS():\n",
        "    iris = load_iris()\n",
        "    \n",
        "    iris_KM_DF2 = pd.DataFrame(data = iris.data, columns = iris.feature_names)\n",
        "    \n",
        "    kmeans = KMeans(n_clusters = 3, max_iter = 300, random_state = None).fit(iris_KM_DF2)\n",
        "    kmeans.cluster_centers_\n",
        "    \n",
        "    iris_KM_DF2['cluster'] = kmeans.labels_\n",
        "    iris_KM_DF2['target'] = iris.target\n",
        "    \n",
        "    mappingDF = {0: 'Setosa', 1: 'Versicolour', 2: 'Virginica'}\n",
        "    iris_KM_DF2['target'] = iris_KM_DF2['target'].map(lambda x : mappingDF[x])\n",
        "    \n",
        "    iris_result = iris_KM_DF2.groupby(['target','cluster'])['sepal length (cm)'].count()\n",
        "    print(iris_result)\n",
        "    \n",
        "KMEANS()"
      ],
      "id": "59a54a61",
      "execution_count": null,
      "outputs": [
        {
          "output_type": "stream",
          "text": [
            "target       cluster\n",
            "Setosa       1          50\n",
            "Versicolour  0          48\n",
            "             2           2\n",
            "Virginica    0          14\n",
            "             2          36\n",
            "Name: sepal length (cm), dtype: int64\n"
          ],
          "name": "stdout"
        }
      ]
    },
    {
      "cell_type": "markdown",
      "metadata": {
        "id": "386a9180"
      },
      "source": [
        "#### K-Means | 실습2 | K-Means 수행 결과 시각화"
      ],
      "id": "386a9180"
    },
    {
      "cell_type": "code",
      "metadata": {
        "id": "6ef24759"
      },
      "source": [
        "iris = load_iris()\n",
        "iris_KM_VIS_DF = pd.DataFrame(data = iris.data, columns = iris.feature_names)"
      ],
      "id": "6ef24759",
      "execution_count": null,
      "outputs": []
    },
    {
      "cell_type": "code",
      "metadata": {
        "id": "355ff6b4"
      },
      "source": [
        "from sklearn.decomposition import PCA\n",
        "def Visualize():\n",
        "    \n",
        "    # 출력 dimension을 설정한다. 여기에서는 2차원으로 출력을 원하니까 2.\n",
        "    pca = PCA(n_components = 2)\n",
        "    \n",
        "    # iris.data를 PCA로 변환시켜준다.\n",
        "    pca_transformed = pca.fit_transform(iris.data)\n",
        "\n",
        "    # PCA의 fit_transform 속성을 이용해 축소할 데이터를 넣는다.\n",
        "    iris_KM_VIS_DF['pca_x'] = pca_transformed[:,0]\n",
        "    iris_KM_VIS_DF['pca_y'] = pca_transformed[:,1]\n",
        "    \n",
        "    # iris_KM_VIS_DF데이터프레임의 'cluster'의 값이 0, 1, 2 인 경우, 각각의 인덱스를 추출한다.\n",
        "    # cluster의 값이 0일 때 그 인덱스에 idx_0을 할당한다.\n",
        "    idx_0 = iris_KM_VIS_DF[iris_KM_VIS_DF['cluster'] == 0].index\n",
        "    idx_1 = iris_KM_VIS_DF[iris_KM_VIS_DF['cluster'] == 1].index\n",
        "    idx_2 = iris_KM_VIS_DF[iris_KM_VIS_DF['cluster'] == 2].index\n",
        "\n",
        "    # 이제 그래프 그린다\n",
        "    fig, ax = plt.subplots()\n",
        "    \n",
        "    # 각 군집 인덱스의 pca_x, pca_y 값 추출 및 시각화를 진행\n",
        "    # idx_0(cluster값이 0인 데이터의 인덱스)의 pca_x가 x, \n",
        "    # idx_0(cluster값이 0인 데이터의 인덱스)의 pca_y가 y인 지점은 동그라미로 표시\n",
        "    ax.scatter(x=iris_KM_VIS_DF.loc[idx_0, 'pca_x'], y= iris_KM_VIS_DF.loc[idx_0, 'pca_y'], marker = 'o')\n",
        "    ax.scatter(x=iris_KM_VIS_DF.loc[idx_1, 'pca_x'], y= iris_KM_VIS_DF.loc[idx_1, 'pca_y'], marker = 's')\n",
        "    ax.scatter(x=iris_KM_VIS_DF.loc[idx_2, 'pca_x'], y= iris_KM_VIS_DF.loc[idx_2, 'pca_y'], marker = '^')\n",
        "    ax.set_xlabel('PCA1')\n",
        "    ax.set_ylabel('PCA2')"
      ],
      "id": "355ff6b4",
      "execution_count": null,
      "outputs": []
    },
    {
      "cell_type": "code",
      "metadata": {
        "id": "a280bef2",
        "outputId": "fbf4f7dc-9aa6-4b29-bc56-343cd3062dca"
      },
      "source": [
        "def KMEANS_VIS():\n",
        "    kmeans = KMeans(n_clusters = 3, max_iter = 300, random_state = None).fit(iris_KM_VIS_DF)\n",
        "    kmeans.cluster_centers_\n",
        "    \n",
        "    iris_KM_VIS_DF['cluster'] = kmeans.labels_\n",
        "    iris_KM_VIS_DF['target'] = iris.target\n",
        "    \n",
        "    mappingDF = {0: 'Setosa', 1: 'Versicolour', 2: 'Virginica'}\n",
        "    iris_KM_VIS_DF['target'] = iris_KM_VIS_DF['target'].map(lambda x : mappingDF[x])\n",
        "    \n",
        "    #iris_result = iris_KM_VIS_DF.groupby(['target','cluster'])['sepal length (cm)'].count()\n",
        "    #print(iris_result)\n",
        "    Visualize()\n",
        "\n",
        "print(\"K-Means 수행 결과:\")\n",
        "KMEANS_VIS()"
      ],
      "id": "a280bef2",
      "execution_count": null,
      "outputs": [
        {
          "output_type": "stream",
          "text": [
            "K-Means 수행 결과:\n"
          ],
          "name": "stdout"
        },
        {
          "output_type": "display_data",
          "data": {
            "image/png": "[encoded data removed]",
            "text/plain": [
              "<Figure size 432x288 with 1 Axes>"
            ]
          },
          "metadata": {
            "tags": [],
            "needs_background": "light"
          }
        }
      ]
    },
    {
      "cell_type": "code",
      "metadata": {
        "id": "13a79005",
        "outputId": "465aab4d-995f-4a2c-c540-04a85db3ba96"
      },
      "source": [
        "# 정답값이랑 비교해보자\n",
        "sns.scatterplot(x= 'pca_x', y = 'pca_y', data= iris_PCA_DF, hue=iris_PCA_DF['target'], s = 100)"
      ],
      "id": "13a79005",
      "execution_count": null,
      "outputs": [
        {
          "output_type": "execute_result",
          "data": {
            "text/plain": [
              "<AxesSubplot:xlabel='pca_x', ylabel='pca_y'>"
            ]
          },
          "metadata": {
            "tags": []
          },
          "execution_count": 30
        },
        {
          "output_type": "display_data",
          "data": {
            "image/png": "[encoded data removed]",
            "text/plain": [
              "<Figure size 432x288 with 1 Axes>"
            ]
          },
          "metadata": {
            "tags": [],
            "needs_background": "light"
          }
        }
      ]
    },
    {
      "cell_type": "code",
      "metadata": {
        "id": "de446c89"
      },
      "source": [
        ""
      ],
      "id": "de446c89",
      "execution_count": null,
      "outputs": []
    }
  ]
}