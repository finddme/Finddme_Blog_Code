{
 "cells": [
  {
   "cell_type": "markdown",
   "id": "baaedcec",
   "metadata": {
    "toc": true
   },
   "source": [
    "<h1>Table of Contents<span class=\"tocSkip\"></span></h1>\n",
    "<div class=\"toc\"><ul class=\"toc-item\"><li><span><a href=\"#Input-Representation\" data-toc-modified-id=\"Input-Representation-1\"><span class=\"toc-item-num\">1&nbsp;&nbsp;</span>Input Representation</a></span></li><li><span><a href=\"#Pretrained-BERT\" data-toc-modified-id=\"Pretrained-BERT-2\"><span class=\"toc-item-num\">2&nbsp;&nbsp;</span>Pretrained BERT</a></span></li><li><span><a href=\"#Prepare-Data\" data-toc-modified-id=\"Prepare-Data-3\"><span class=\"toc-item-num\">3&nbsp;&nbsp;</span>Prepare Data</a></span></li><li><span><a href=\"#BERT-Tokenizer\" data-toc-modified-id=\"BERT-Tokenizer-4\"><span class=\"toc-item-num\">4&nbsp;&nbsp;</span>BERT Tokenizer</a></span></li><li><span><a href=\"#Train-data-generation\" data-toc-modified-id=\"Train-data-generation-5\"><span class=\"toc-item-num\">5&nbsp;&nbsp;</span>Train data generation</a></span></li><li><span><a href=\"#Create-Classification-Model\" data-toc-modified-id=\"Create-Classification-Model-6\"><span class=\"toc-item-num\">6&nbsp;&nbsp;</span>Create Classification Model</a></span></li><li><span><a href=\"#Model-Train\" data-toc-modified-id=\"Model-Train-7\"><span class=\"toc-item-num\">7&nbsp;&nbsp;</span>Model Train</a></span></li><li><span><a href=\"#Loss-Visualization\" data-toc-modified-id=\"Loss-Visualization-8\"><span class=\"toc-item-num\">8&nbsp;&nbsp;</span>Loss Visualization</a></span></li><li><span><a href=\"#Model-Evaluation\" data-toc-modified-id=\"Model-Evaluation-9\"><span class=\"toc-item-num\">9&nbsp;&nbsp;</span>Model Evaluation</a></span></li></ul></div>"
   ]
  },
  {
   "cell_type": "markdown",
   "id": "32c294d9",
   "metadata": {},
   "source": [
    "## Input Representation\n",
    "\n",
    "Bert의 Input Representation는 3가지 임베딩이 합쳐져 만들어진다.\n",
    "- Token Embedding: Bert는 word piece embedding방식을 사용한다. (word piece embedding은 자주 등장하는 sub word 중 가장 긴 길이의 subword를 하나의 단위로 생성하는 것이다. rare word는 subword로 분리된다. 이러한 방식을 이용하면 OOV문제를 해결할 수 있다.)\n",
    "- Sentence Embedding: Bert는 sperate token으로 구분된 두 문장을 입력으로 받는다. 이 두 문장은 512 이하의 subword를 가지도록 제한된다. (한국어는 일반적으로 한 문장당 20개의 subwords로 구성되며, 대부분의 경우 60 subword를 넘지 않는다. 그래서 두 문장을 합쳐 128 subword를 갖는다고 설정해도 문제가 없다. 입력길이가 128이 넘는 경우가 있다 해도 그것들에 대해 따로 추가 학습을 해줄 수 있다.\n",
    "- Position Embedding: Bert도 Transformer과 마찬가지로 RNN계열의 모델을 기반으로 하지 않기 때문에 위치정보를 따로 주어야 한다. Bert는 Transformer에서 사용된 positional encoding을 조금 변형한 position embedding을 사용한다. \n",
    "\n",
    "위 3가지 Embedding을 합쳐서 나온 결과를 normalization, dropout해서 Input Representation으로 사용한다. "
   ]
  },
  {
   "cell_type": "markdown",
   "id": "31fe2137",
   "metadata": {},
   "source": [
    "## Pretrained BERT"
   ]
  },
  {
   "cell_type": "code",
   "execution_count": 2,
   "id": "7636d01e",
   "metadata": {},
   "outputs": [
    {
     "name": "stdout",
     "output_type": "stream",
     "text": [
      "Collecting transformers==2.11.0\n",
      "  Downloading transformers-2.11.0-py3-none-any.whl (674 kB)\n",
      "Requirement already satisfied: packaging in c:\\users\\yein4\\anaconda3\\lib\\site-packages (from transformers==2.11.0) (21.0)\n",
      "Requirement already satisfied: numpy in c:\\users\\yein4\\anaconda3\\lib\\site-packages (from transformers==2.11.0) (1.18.5)\n",
      "Requirement already satisfied: filelock in c:\\users\\yein4\\anaconda3\\lib\\site-packages (from transformers==2.11.0) (3.0.12)\n",
      "Collecting sacremoses\n",
      "  Downloading sacremoses-0.0.45-py3-none-any.whl (895 kB)\n",
      "Requirement already satisfied: requests in c:\\users\\yein4\\anaconda3\\lib\\site-packages (from transformers==2.11.0) (2.25.1)\n",
      "Requirement already satisfied: tqdm>=4.27 in c:\\users\\yein4\\anaconda3\\lib\\site-packages (from transformers==2.11.0) (4.62.0)\n",
      "Requirement already satisfied: regex!=2019.12.17 in c:\\users\\yein4\\anaconda3\\lib\\site-packages (from transformers==2.11.0) (2021.4.4)\n",
      "Collecting tokenizers==0.7.0\n",
      "  Downloading tokenizers-0.7.0-cp37-cp37m-win_amd64.whl (1.1 MB)\n",
      "Collecting sentencepiece\n",
      "  Downloading sentencepiece-0.1.96-cp37-cp37m-win_amd64.whl (1.1 MB)\n",
      "Requirement already satisfied: colorama in c:\\users\\yein4\\anaconda3\\lib\\site-packages (from tqdm>=4.27->transformers==2.11.0) (0.4.4)\n",
      "Requirement already satisfied: pyparsing>=2.0.2 in c:\\users\\yein4\\anaconda3\\lib\\site-packages (from packaging->transformers==2.11.0) (2.4.7)\n",
      "Requirement already satisfied: idna<3,>=2.5 in c:\\users\\yein4\\anaconda3\\lib\\site-packages (from requests->transformers==2.11.0) (2.10)\n",
      "Requirement already satisfied: urllib3<1.27,>=1.21.1 in c:\\users\\yein4\\anaconda3\\lib\\site-packages (from requests->transformers==2.11.0) (1.26.6)\n",
      "Requirement already satisfied: chardet<5,>=3.0.2 in c:\\users\\yein4\\anaconda3\\lib\\site-packages (from requests->transformers==2.11.0) (4.0.0)\n",
      "Requirement already satisfied: certifi>=2017.4.17 in c:\\users\\yein4\\anaconda3\\lib\\site-packages (from requests->transformers==2.11.0) (2021.5.30)\n",
      "Requirement already satisfied: joblib in c:\\users\\yein4\\anaconda3\\lib\\site-packages (from sacremoses->transformers==2.11.0) (1.0.1)\n",
      "Requirement already satisfied: click in c:\\users\\yein4\\anaconda3\\lib\\site-packages (from sacremoses->transformers==2.11.0) (7.1.2)\n",
      "Requirement already satisfied: six in c:\\users\\yein4\\anaconda3\\lib\\site-packages (from sacremoses->transformers==2.11.0) (1.16.0)\n",
      "Installing collected packages: tokenizers, sentencepiece, sacremoses, transformers\n",
      "Successfully installed sacremoses-0.0.45 sentencepiece-0.1.96 tokenizers-0.7.0 transformers-2.11.0\n"
     ]
    }
   ],
   "source": [
    "# hugging face에서 배포한 pre-trained 모델을 받아온다.\n",
    "!pip install transformers==2.11.0"
   ]
  },
  {
   "cell_type": "markdown",
   "id": "790c4f0e",
   "metadata": {},
   "source": [
    "## Prepare Data"
   ]
  },
  {
   "cell_type": "code",
   "execution_count": 4,
   "id": "2ae10498",
   "metadata": {},
   "outputs": [],
   "source": [
    "import os\n",
    "import re\n",
    "import json\n",
    "import copy\n",
    "import numpy as np\n",
    "import pandas as pd \n",
    "import matplotlib.pyplot as plt\n",
    "plt.style.use('seaborn-white')"
   ]
  },
  {
   "cell_type": "code",
   "execution_count": 5,
   "id": "01259c0b",
   "metadata": {},
   "outputs": [],
   "source": [
    "from tqdm import tqdm\n",
    "import tensorflow as tf\n",
    "from tensorflow import *\n",
    "from tensorflow.keras.preprocessing.sequence import pad_sequences\n",
    "from tensorflow.keras.callbacks import EarlyStopping, ModelCheckpoint"
   ]
  },
  {
   "cell_type": "code",
   "execution_count": 6,
   "id": "e400e57b",
   "metadata": {},
   "outputs": [],
   "source": [
    "# seed값을 고정한다.\n",
    "tf.random.set_seed(111)\n",
    "np.random.seed(111)"
   ]
  },
  {
   "cell_type": "code",
   "execution_count": 8,
   "id": "dd5a4549",
   "metadata": {},
   "outputs": [],
   "source": [
    "import urllib.request\n",
    "\n",
    "# 해당 url에서 naver 영화 평가 데이터를 불러온다.\n",
    "train_file = urllib.request.urlopen('https://raw.githubusercontent.com/e9t/nsmc/master/ratings_train.txt')  \n",
    "test_file = urllib.request.urlopen('https://raw.githubusercontent.com/e9t/nsmc/master/ratings_test.txt')\n",
    "\n",
    "# 불러온 데이터를 읽는다.\n",
    "train_data = pd.read_table(train_file)\n",
    "test_data = pd.read_table(test_file)\n",
    "\n",
    "# 불필요한 요소들을 drop시킨다.\n",
    "train_data = train_data.dropna()\n",
    "test_data = test_data.dropna()"
   ]
  },
  {
   "cell_type": "code",
   "execution_count": 9,
   "id": "0578af48",
   "metadata": {},
   "outputs": [
    {
     "data": {
      "text/html": [
       "<div>\n",
       "<style scoped>\n",
       "    .dataframe tbody tr th:only-of-type {\n",
       "        vertical-align: middle;\n",
       "    }\n",
       "\n",
       "    .dataframe tbody tr th {\n",
       "        vertical-align: top;\n",
       "    }\n",
       "\n",
       "    .dataframe thead th {\n",
       "        text-align: right;\n",
       "    }\n",
       "</style>\n",
       "<table border=\"1\" class=\"dataframe\">\n",
       "  <thead>\n",
       "    <tr style=\"text-align: right;\">\n",
       "      <th></th>\n",
       "      <th>id</th>\n",
       "      <th>document</th>\n",
       "      <th>label</th>\n",
       "    </tr>\n",
       "  </thead>\n",
       "  <tbody>\n",
       "    <tr>\n",
       "      <th>0</th>\n",
       "      <td>9976970</td>\n",
       "      <td>아 더빙.. 진짜 짜증나네요 목소리</td>\n",
       "      <td>0</td>\n",
       "    </tr>\n",
       "    <tr>\n",
       "      <th>1</th>\n",
       "      <td>3819312</td>\n",
       "      <td>흠...포스터보고 초딩영화줄....오버연기조차 가볍지 않구나</td>\n",
       "      <td>1</td>\n",
       "    </tr>\n",
       "    <tr>\n",
       "      <th>2</th>\n",
       "      <td>10265843</td>\n",
       "      <td>너무재밓었다그래서보는것을추천한다</td>\n",
       "      <td>0</td>\n",
       "    </tr>\n",
       "    <tr>\n",
       "      <th>3</th>\n",
       "      <td>9045019</td>\n",
       "      <td>교도소 이야기구먼 ..솔직히 재미는 없다..평점 조정</td>\n",
       "      <td>0</td>\n",
       "    </tr>\n",
       "    <tr>\n",
       "      <th>4</th>\n",
       "      <td>6483659</td>\n",
       "      <td>사이몬페그의 익살스런 연기가 돋보였던 영화!스파이더맨에서 늙어보이기만 했던 커스틴 ...</td>\n",
       "      <td>1</td>\n",
       "    </tr>\n",
       "  </tbody>\n",
       "</table>\n",
       "</div>"
      ],
      "text/plain": [
       "         id                                           document  label\n",
       "0   9976970                                아 더빙.. 진짜 짜증나네요 목소리      0\n",
       "1   3819312                  흠...포스터보고 초딩영화줄....오버연기조차 가볍지 않구나      1\n",
       "2  10265843                                  너무재밓었다그래서보는것을추천한다      0\n",
       "3   9045019                      교도소 이야기구먼 ..솔직히 재미는 없다..평점 조정      0\n",
       "4   6483659  사이몬페그의 익살스런 연기가 돋보였던 영화!스파이더맨에서 늙어보이기만 했던 커스틴 ...      1"
      ]
     },
     "execution_count": 9,
     "metadata": {},
     "output_type": "execute_result"
    }
   ],
   "source": [
    "train_data.head()"
   ]
  },
  {
   "cell_type": "code",
   "execution_count": 10,
   "id": "c09b0894",
   "metadata": {},
   "outputs": [
    {
     "data": {
      "text/html": [
       "<div>\n",
       "<style scoped>\n",
       "    .dataframe tbody tr th:only-of-type {\n",
       "        vertical-align: middle;\n",
       "    }\n",
       "\n",
       "    .dataframe tbody tr th {\n",
       "        vertical-align: top;\n",
       "    }\n",
       "\n",
       "    .dataframe thead th {\n",
       "        text-align: right;\n",
       "    }\n",
       "</style>\n",
       "<table border=\"1\" class=\"dataframe\">\n",
       "  <thead>\n",
       "    <tr style=\"text-align: right;\">\n",
       "      <th></th>\n",
       "      <th>id</th>\n",
       "      <th>document</th>\n",
       "      <th>label</th>\n",
       "    </tr>\n",
       "  </thead>\n",
       "  <tbody>\n",
       "    <tr>\n",
       "      <th>0</th>\n",
       "      <td>6270596</td>\n",
       "      <td>굳 ㅋ</td>\n",
       "      <td>1</td>\n",
       "    </tr>\n",
       "    <tr>\n",
       "      <th>1</th>\n",
       "      <td>9274899</td>\n",
       "      <td>GDNTOPCLASSINTHECLUB</td>\n",
       "      <td>0</td>\n",
       "    </tr>\n",
       "    <tr>\n",
       "      <th>2</th>\n",
       "      <td>8544678</td>\n",
       "      <td>뭐야 이 평점들은.... 나쁘진 않지만 10점 짜리는 더더욱 아니잖아</td>\n",
       "      <td>0</td>\n",
       "    </tr>\n",
       "    <tr>\n",
       "      <th>3</th>\n",
       "      <td>6825595</td>\n",
       "      <td>지루하지는 않은데 완전 막장임... 돈주고 보기에는....</td>\n",
       "      <td>0</td>\n",
       "    </tr>\n",
       "    <tr>\n",
       "      <th>4</th>\n",
       "      <td>6723715</td>\n",
       "      <td>3D만 아니었어도 별 다섯 개 줬을텐데.. 왜 3D로 나와서 제 심기를 불편하게 하죠??</td>\n",
       "      <td>0</td>\n",
       "    </tr>\n",
       "  </tbody>\n",
       "</table>\n",
       "</div>"
      ],
      "text/plain": [
       "        id                                           document  label\n",
       "0  6270596                                                굳 ㅋ      1\n",
       "1  9274899                               GDNTOPCLASSINTHECLUB      0\n",
       "2  8544678             뭐야 이 평점들은.... 나쁘진 않지만 10점 짜리는 더더욱 아니잖아      0\n",
       "3  6825595                   지루하지는 않은데 완전 막장임... 돈주고 보기에는....      0\n",
       "4  6723715  3D만 아니었어도 별 다섯 개 줬을텐데.. 왜 3D로 나와서 제 심기를 불편하게 하죠??      0"
      ]
     },
     "execution_count": 10,
     "metadata": {},
     "output_type": "execute_result"
    }
   ],
   "source": [
    "test_data.head()"
   ]
  },
  {
   "cell_type": "markdown",
   "id": "249f6706",
   "metadata": {},
   "source": [
    "## BERT Tokenizer"
   ]
  },
  {
   "cell_type": "code",
   "execution_count": 13,
   "id": "ec211242",
   "metadata": {},
   "outputs": [
    {
     "name": "stderr",
     "output_type": "stream",
     "text": [
      "C:\\Users\\yein4\\Anaconda3\\lib\\importlib\\_bootstrap.py:219: RuntimeWarning: numpy.ufunc size changed, may indicate binary incompatibility. Expected 192 from C header, got 216 from PyObject\n",
      "  return f(*args, **kwds)\n",
      "C:\\Users\\yein4\\Anaconda3\\lib\\importlib\\_bootstrap.py:219: RuntimeWarning: numpy.ufunc size changed, may indicate binary incompatibility. Expected 192 from C header, got 216 from PyObject\n",
      "  return f(*args, **kwds)\n"
     ]
    },
    {
     "data": {
      "application/vnd.jupyter.widget-view+json": {
       "model_id": "a8ed41f581924efe8bf5d21370fb8695",
       "version_major": 2,
       "version_minor": 0
      },
      "text/plain": [
       "Downloading:   0%|          | 0.00/996k [00:00<?, ?B/s]"
      ]
     },
     "metadata": {},
     "output_type": "display_data"
    }
   ],
   "source": [
    "import transformers\n",
    "# 한국어니까 bert-base-multilingual-cased로 tokenizer를 초기화한다.\n",
    "tokenizer = transformers.BertTokenizer.from_pretrained('bert-base-multilingual-cased', cache_dir='bert_ckpt', do_lower_case=False)"
   ]
  },
  {
   "cell_type": "code",
   "execution_count": null,
   "id": "a44bfbd3",
   "metadata": {},
   "outputs": [],
   "source": [
    "# hyperparameter를 설정한다.\n",
    "BATCH_SIZE = 32\n",
    "EPOCHS = 3\n",
    "VALID_SPLIT = 0.2\n",
    "MAX_LEN = 39"
   ]
  },
  {
   "cell_type": "code",
   "execution_count": 19,
   "id": "8f309059",
   "metadata": {},
   "outputs": [],
   "source": [
    "# 1. 불러온 bert tokenizer의 encode_plus로 입력받은 문장을 어떻게 처리할지 설정한다.\n",
    "#    encode_plus는 입력된 문장을 input_ids, attention_mask, token_type_ids 텐서로 반환한다.\n",
    "# 2. CLS, SEP token을 붙인다.\n",
    "# 3. max_length는 받아온 parameter값으로.\n",
    "# 4. 최대 길이로 패딩해주고\n",
    "# 5. attention mask를 만들어서 반환한다.\n",
    "# 6. input_ids는 각 단어에 할당된 정수들이다.\n",
    "# 7. attention_mask 아까 True로 했으니까 반환된다.\n",
    "#    attention_mask는 input_ids 배열에서 값이 할당된 부분은 1로, 아닌 부분은 0으로 나타낸느 배열이다.\n",
    "#    Bert는 attention_mask에서 1이 부여된 부분에만 attention을 한다. \n",
    "#    이러면 0으로 padding된 불필요한 부분은 신경쓰지 않아도 된다.\n",
    "\n",
    "def bert_tokenizer(sentence, MAX_LEN): \n",
    "    encoded_dict = tokenizer.encode_plus(text=sentence, # 1\n",
    "                                        add_special_tokens=True, # 2\n",
    "                                        max_length=MAX_LEN, # 3\n",
    "                                        pad_to_max_length=True, # 4\n",
    "                                        return_attention_mask=True) # 5\n",
    "    input_id = encoded_dict['input_ids'] # 6\n",
    "    attention_mask = encoded_dict['attention_mask'] # 7\n",
    "    token_type_id = encoded_dict['token_type_ids'] \n",
    "    \n",
    "    return input_id, attention_mask, token_type_id\n"
   ]
  },
  {
   "cell_type": "markdown",
   "id": "c2fbc509",
   "metadata": {},
   "source": [
    "## Train data generation"
   ]
  },
  {
   "cell_type": "code",
   "execution_count": 22,
   "id": "64395860",
   "metadata": {},
   "outputs": [
    {
     "name": "stderr",
     "output_type": "stream",
     "text": [
      "100%|████████████████████████████████████████████████████████████████████████| 149995/149995 [00:42<00:00, 3532.24it/s]\n"
     ]
    }
   ],
   "source": [
    "# bert token화로 반환된 것을 담을 리스트를 준비한다.\n",
    "input_ids = []\n",
    "attention_masks = []\n",
    "token_type_ids = []\n",
    "train_data_labels = []\n",
    "\n",
    "# 1. 반복문을 돌면서 train_data에서 document는 train_sentence,\n",
    "#    train_data에서 label은 train_label에 넣고, tqdm으로 시간을 표시한다. 총 반복 수는 train_data길이.\n",
    "# 2. train_sentence를 아까 만든 bert_tokenizer에 넣고,\n",
    "#    해당 함수에서 반환받기로 한 세 항목을 차례대로 input_id, attention_mask, token_type_id에 넣는다.\n",
    "# 3. 반환받은 것들을 아까 만든 리스트에 각각 넣는다.\n",
    "# 4. train_label은 train_data_labels리스트에 넣는다.\n",
    "# 5. 만약 train_sentence 자체에 문제가 있으면 예외처리하고 지나간다.\n",
    "for train_sentence, train_label in tqdm(zip(train_data['document'],\n",
    "                                           train_data['label']),\n",
    "                                           total= len(train_data)): # 1\n",
    "    input_id, attention_mask, token_type_id = bert_tokenizer(train_sentence, MAX_LEN) # 2  \n",
    "    \n",
    "    try: # 3\n",
    "        input_ids.append(input_id)\n",
    "        attention_masks.append(attention_mask)\n",
    "        token_type_ids.append(token_type_id)\n",
    "        train_data_labels.append(train_label) # 4\n",
    "        \n",
    "    except Exception as e: # 5\n",
    "        print(e)\n",
    "        pass\n",
    "    \n",
    "# 반복을 통해 만들어진 리스트들을 array형태로 만든다.\n",
    "train_input_ids = np.array(input_ids,dtype=int)\n",
    "train_attention_masks = np.array(attention_masks,dtype=int)\n",
    "train_token_type_ids = np.array(token_type_ids,dtype=int)\n",
    "# 위에 것들을 다 결합시켜서 입력으로 사용할 것을 만든다.\n",
    "train_inputs = (train_input_ids, train_attention_masks, train_token_type_ids)  \n",
    "train_data_labels = np.asarray(train_data_labels, dtype=np.int32)\n",
    "\n",
    "print(\"Sentence:{}\\n Labels:{}\".format(len(train_input_ids),len(train_data_labels)))"
   ]
  },
  {
   "cell_type": "code",
   "execution_count": 36,
   "id": "38ff9626",
   "metadata": {},
   "outputs": [
    {
     "data": {
      "text/plain": [
       "array([   101,   9487,  24206,  10739,   9246,  25517,  26444,  10459,\n",
       "         9652,  18227,  12638,    117,   9309,  42815,  12638,   9952,\n",
       "        16439,  24206,  16439,  11287,   9568,  29669,   9654,  14523,\n",
       "       119221,  12424,   9074,  14423, 118963,  10739,  34776,    119,\n",
       "          102,      0,      0,      0,      0,      0,      0])"
      ]
     },
     "execution_count": 36,
     "metadata": {},
     "output_type": "execute_result"
    }
   ],
   "source": [
    "train_input_ids[100] # 인덱스 100에 대한 결과"
   ]
  },
  {
   "cell_type": "code",
   "execution_count": 37,
   "id": "cbf3f278",
   "metadata": {},
   "outputs": [
    {
     "data": {
      "text/plain": [
       "array([1, 1, 1, 1, 1, 1, 1, 1, 1, 1, 1, 1, 1, 1, 1, 1, 1, 1, 1, 1, 1, 1,\n",
       "       1, 1, 1, 1, 1, 1, 1, 1, 1, 1, 1, 0, 0, 0, 0, 0, 0])"
      ]
     },
     "execution_count": 37,
     "metadata": {},
     "output_type": "execute_result"
    }
   ],
   "source": [
    "train_attention_masks[100]"
   ]
  },
  {
   "cell_type": "code",
   "execution_count": 38,
   "id": "365b911d",
   "metadata": {
    "scrolled": true
   },
   "outputs": [
    {
     "data": {
      "text/plain": [
       "array([0, 0, 0, 0, 0, 0, 0, 0, 0, 0, 0, 0, 0, 0, 0, 0, 0, 0, 0, 0, 0, 0,\n",
       "       0, 0, 0, 0, 0, 0, 0, 0, 0, 0, 0, 0, 0, 0, 0, 0, 0])"
      ]
     },
     "execution_count": 38,
     "metadata": {},
     "output_type": "execute_result"
    }
   ],
   "source": [
    "train_token_type_ids[100]"
   ]
  },
  {
   "cell_type": "code",
   "execution_count": 39,
   "id": "13ae96c0",
   "metadata": {},
   "outputs": [
    {
     "data": {
      "text/plain": [
       "'[CLS] 신카이 마코토의 작화와, 미유와 하나카나가 연기를 잘해줘서 더대박이였다. [SEP] [PAD] [PAD] [PAD] [PAD] [PAD] [PAD]'"
      ]
     },
     "execution_count": 39,
     "metadata": {},
     "output_type": "execute_result"
    }
   ],
   "source": [
    "tokenizer.decode(train_input_ids[100])"
   ]
  },
  {
   "cell_type": "markdown",
   "id": "d2b7cd24",
   "metadata": {},
   "source": [
    "## Create Classification Model"
   ]
  },
  {
   "cell_type": "code",
   "execution_count": 53,
   "id": "494d54fb",
   "metadata": {},
   "outputs": [],
   "source": [
    "from transformers import TFBertModel\n",
    "# 1. keras의 Model을 받아와서 초기화시킨다.\n",
    "# 2. initializer range는 self.bert.config에 있는 값을 그대로 사용\n",
    "#    Dense layer는 분류 클래스 수만큼.\n",
    "# 3. call이 오면 먼저 bert를 돌린다.\n",
    "# 4. bert돌려서 받은 없을 pooled_output에 넣어주고\n",
    "# 5. dropout시킨다.\n",
    "# 6. 최종적으로 Dense layer에 통과시킨다.\n",
    "\n",
    "class TFBertClassifier(tf.keras.Model): # 1\n",
    "    def __init__(self, model_name, dir_path, num_class):\n",
    "        super(TFBertClassifier,self).__init__()\n",
    "        self.bert = transformers.TFBertModel.from_pretrained(model_name, cache_dir=dir_path)\n",
    "        self.dropout = tf.keras.layers.Dropout(self.bert.config.hidden_dropout_prob)\n",
    "        self.classifier = tf.keras.layers.Dense(num_class,\n",
    "                                                kernel_initializer=tf.keras.initializers.TruncatedNormal(self.bert.config.initializer_range),\n",
    "                                               name='classifier') # 2\n",
    "    def call(self, inputs, attention_mask=None, token_type_ids=None, training=False):\n",
    "        outputs = self.bert(inputs, attention_mask=attention_mask,\n",
    "                           token_type_ids=token_type_ids) # 3\n",
    "        pooled_output = outputs[1]\n",
    "        pooled_output = self.dropout(pooled_output, training=training)\n",
    "        logits = self.classifier(pooled_output)\n",
    "        \n",
    "        return logits \n",
    "    \n",
    "# 위에서 만든 클래스를 사용한다.\n",
    "# bert-base-multilingual-cased를 사용하고,\n",
    "# 영화 긍부정 리뷰니까 클래스가 2개. 그래서 Dense 2개.\n",
    "cls_model = TFBertClassifier(model_name='bert-base-multilingual-cased',dir_path='bert_ckpt',num_class=2)"
   ]
  },
  {
   "cell_type": "markdown",
   "id": "24b2cd4c",
   "metadata": {},
   "source": [
    "## Model Train"
   ]
  },
  {
   "cell_type": "code",
   "execution_count": 54,
   "id": "c29b126c",
   "metadata": {},
   "outputs": [],
   "source": [
    "# 최적화, 손실함수, 정확도 metirc을 설정한다.\n",
    "optimizer = tf.keras.optimizers.Adam(2e-6) # adam에 엄청 작은 값 입력\n",
    "loss = tf.keras.losses.SparseCategoricalCrossentropy(from_logits=True)\n",
    "metric = tf.keras.metrics.SparseCategoricalAccuracy('accuracy')\n",
    "# 앞서 만든 모델을 compile한다.\n",
    "cls_model.compile(optimizer=optimizer, loss=loss, metrics=[metric])"
   ]
  },
  {
   "cell_type": "code",
   "execution_count": null,
   "id": "10a2d4e1",
   "metadata": {},
   "outputs": [],
   "source": [
    "# 1. 모델 이름\n",
    "# 2. validation accuracy를 모니터링 하면서 2번 이상 상승하지 않으면 종료해버리는 조건을 건다.\n",
    "model_name = 'bert_classifier' # 1\n",
    "earlystop_callback = EarlyStopping(monitor='val_accuracy',\n",
    "                                  min_delta= 0.0001,\n",
    "                                  patience=2) # 2\n",
    "checkpoint_path = os.path.join('./', model_name, 'bert_classifier_weights.h5')\n",
    "checkpoint_dir = os.path.dirname(checkpoint_path)\n",
    "\n",
    "# 3. 만약 path에 이미 저장된게 있으면 있다고 알려라.(없어야 하니까...)\n",
    "# 4. 없으면 만들어준다.\n",
    "if os.path.exists(checkpoint_dir): # 3\n",
    "    print(\"{} Directory already exists\\n\".format(checkpoint_dir))\n",
    "else: # 4\n",
    "    os.makedirs(checkpoint_dir,exist_ok=True)\n",
    "    print(\"{} Create Directory\".format(checkpoint_dir))\n",
    "\n",
    "# verbose는 1로 해서 설명은 간단하게만 출력하고, bert만 받아온다. 그리고 가중치값만 받아온다.\n",
    "checkpoint_callback = ModelCheckpoint(checkpoint_path, monitor='val_accuracy', verbose=1,\n",
    "                                     save_best_only=True, save_weights_only=True)\n",
    "# 입력값과 정답값을 같이 주고 model fit\n",
    "history = cls_model.fit(train_inputs, train_data_labels, epochs=EPOCHS,\n",
    "                       batch_size = BATCH_SIZE, validation_split=VALID_SPLIT,\n",
    "                       callbacks=[earlystop_callback,checkpoint_callback])"
   ]
  },
  {
   "cell_type": "markdown",
   "id": "36848088",
   "metadata": {},
   "source": [
    "## Loss Visualization"
   ]
  },
  {
   "cell_type": "code",
   "execution_count": 56,
   "id": "b39ef0fc",
   "metadata": {},
   "outputs": [
    {
     "data": {
      "image/png": "[encoded data removed]",
      "text/plain": [
       "<Figure size 640x480 with 1 Axes>"
      ]
     },
     "metadata": {},
     "output_type": "display_data"
    }
   ],
   "source": [
    "plt.plot(history.history['loss'])\n",
    "plt.plot(history.history['val_loss'])\n",
    "plt.plot(history.history['accuracy'])\n",
    "plt.plot(history.history['val_accuracy'])\n",
    "plt.xlabel('Epochs')\n",
    "plt.ylabel('Loss/Accuracy')\n",
    "plt.legend(['loss','val_loss','accuracy','val_accuracy'])\n",
    "plt.show()"
   ]
  },
  {
   "cell_type": "markdown",
   "id": "174cad5b",
   "metadata": {},
   "source": [
    "## Model Evaluation"
   ]
  },
  {
   "cell_type": "code",
   "execution_count": 57,
   "id": "99213ec1",
   "metadata": {},
   "outputs": [
    {
     "name": "stderr",
     "output_type": "stream",
     "text": [
      "100%|██████████████████████████████████████████████████████████████████████████| 49997/49997 [00:11<00:00, 4221.04it/s]\n"
     ]
    }
   ],
   "source": [
    "input_ids = []\n",
    "attention_masks = []\n",
    "token_type_ids = []\n",
    "test_data_labels = []\n",
    "\n",
    "# 평가데이터로 넣을 거 준비\n",
    "for test_sentence, test_label in tqdm(zip(test_data['document'],\n",
    "                                           test_data['label']),\n",
    "                                           total= len(test_data)):\n",
    "    try:\n",
    "        input_id, attention_mask, token_type_id = bert_tokenizer(test_sentence, MAX_LEN) \n",
    "        input_ids.append(input_id)\n",
    "        attention_masks.append(attention_mask)\n",
    "        token_type_ids.append(token_type_id)\n",
    "        test_data_labels.append(test_label)\n",
    "        \n",
    "    except Exception as e:\n",
    "        print(e)\n",
    "        pass\n",
    "test_input_ids = np.array(input_ids,dtype=int)\n",
    "test_attention_masks = np.array(attention_masks,dtype=int)\n",
    "test_token_type_ids = np.array(token_type_ids,dtype=int)\n",
    "test_inputs = (test_input_ids, test_attention_masks, test_token_type_ids)  \n",
    "test_data_labels = np.asarray(test_data_labels, dtype=np.int32)\n"
   ]
  },
  {
   "cell_type": "code",
   "execution_count": 58,
   "id": "e597e8e5",
   "metadata": {},
   "outputs": [
    {
     "name": "stdout",
     "output_type": "stream",
     "text": [
      "49/49 [==============================] - 3564s 73s/step - loss: 0.3502 - accuracy: 0.8425\n"
     ]
    },
    {
     "data": {
      "text/plain": [
       "[0.3502176105976105, 0.842490553855896]"
      ]
     },
     "execution_count": 58,
     "metadata": {},
     "output_type": "execute_result"
    }
   ],
   "source": [
    "cls_model.evaluate(test_inputs, test_data_labels, batch_size=1024)"
   ]
  },
  {
   "cell_type": "code",
   "execution_count": null,
   "id": "7779e461",
   "metadata": {},
   "outputs": [],
   "source": []
  }
 ],
 "metadata": {
  "kernelspec": {
   "display_name": "Python 3",
   "language": "python",
   "name": "python3"
  },
  "language_info": {
   "codemirror_mode": {
    "name": "ipython",
    "version": 3
   },
   "file_extension": ".py",
   "mimetype": "text/x-python",
   "name": "python",
   "nbconvert_exporter": "python",
   "pygments_lexer": "ipython3",
   "version": "3.7.11"
  },
  "toc": {
   "base_numbering": 1,
   "nav_menu": {},
   "number_sections": true,
   "sideBar": true,
   "skip_h1_title": false,
   "title_cell": "Table of Contents",
   "title_sidebar": "Contents",
   "toc_cell": true,
   "toc_position": {},
   "toc_section_display": true,
   "toc_window_display": false
  }
 },
 "nbformat": 4,
 "nbformat_minor": 5
}
