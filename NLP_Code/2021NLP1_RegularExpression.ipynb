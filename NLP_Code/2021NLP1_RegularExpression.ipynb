{
 "cells": [
  {
   "cell_type": "markdown",
   "id": "a1b321b2",
   "metadata": {
    "toc": true
   },
   "source": [
    "<h1>Table of Contents<span class=\"tocSkip\"></span></h1>\n",
    "<div class=\"toc\"><ul class=\"toc-item\"><li><span><a href=\"#String-다루기-|-영어\" data-toc-modified-id=\"String-다루기-|-영어-1\"><span class=\"toc-item-num\">1&nbsp;&nbsp;</span>String 다루기 | 영어</a></span></li><li><span><a href=\"#String-다루기-|-한국어\" data-toc-modified-id=\"String-다루기-|-한국어-2\"><span class=\"toc-item-num\">2&nbsp;&nbsp;</span>String 다루기 | 한국어</a></span></li><li><span><a href=\"#정규화\" data-toc-modified-id=\"정규화-3\"><span class=\"toc-item-num\">3&nbsp;&nbsp;</span>정규화</a></span></li><li><span><a href=\"#정규표현식(Regular-Expression)\" data-toc-modified-id=\"정규표현식(Regular-Expression)-4\"><span class=\"toc-item-num\">4&nbsp;&nbsp;</span>정규표현식(Regular Expression)</a></span><ul class=\"toc-item\"><li><span><a href=\"#정규표현식-|-match-|-영어\" data-toc-modified-id=\"정규표현식-|-match-|-영어-4.1\"><span class=\"toc-item-num\">4.1&nbsp;&nbsp;</span>정규표현식 | match | 영어</a></span></li><li><span><a href=\"#정규표현식-|-match-|-한국어\" data-toc-modified-id=\"정규표현식-|-match-|-한국어-4.2\"><span class=\"toc-item-num\">4.2&nbsp;&nbsp;</span>정규표현식 | match | 한국어</a></span></li><li><span><a href=\"#정규표현식-|-compile-|-영어\" data-toc-modified-id=\"정규표현식-|-compile-|-영어-4.3\"><span class=\"toc-item-num\">4.3&nbsp;&nbsp;</span>정규표현식 | compile | 영어</a></span></li><li><span><a href=\"#정규표현식-|-search-|-영어\" data-toc-modified-id=\"정규표현식-|-search-|-영어-4.4\"><span class=\"toc-item-num\">4.4&nbsp;&nbsp;</span>정규표현식 | search | 영어</a></span></li><li><span><a href=\"#정규표현식-|-search-|-한국어\" data-toc-modified-id=\"정규표현식-|-search-|-한국어-4.5\"><span class=\"toc-item-num\">4.5&nbsp;&nbsp;</span>정규표현식 | search | 한국어</a></span></li><li><span><a href=\"#정규표현식-|-split-|-영어\" data-toc-modified-id=\"정규표현식-|-split-|-영어-4.6\"><span class=\"toc-item-num\">4.6&nbsp;&nbsp;</span>정규표현식 | split | 영어</a></span></li><li><span><a href=\"#sub-|-영어\" data-toc-modified-id=\"sub-|-영어-4.7\"><span class=\"toc-item-num\">4.7&nbsp;&nbsp;</span>sub | 영어</a></span></li><li><span><a href=\"#sub-|-한국어\" data-toc-modified-id=\"sub-|-한국어-4.8\"><span class=\"toc-item-num\">4.8&nbsp;&nbsp;</span>sub | 한국어</a></span></li><li><span><a href=\"#findall\" data-toc-modified-id=\"findall-4.9\"><span class=\"toc-item-num\">4.9&nbsp;&nbsp;</span>findall</a></span></li><li><span><a href=\"#finditer\" data-toc-modified-id=\"finditer-4.10\"><span class=\"toc-item-num\">4.10&nbsp;&nbsp;</span>finditer</a></span></li></ul></li></ul></div>"
   ]
  },
  {
   "cell_type": "markdown",
   "id": "bf42ff18",
   "metadata": {},
   "source": [
    "## String 다루기 | 영어"
   ]
  },
  {
   "cell_type": "code",
   "execution_count": 6,
   "id": "d6a74ea4",
   "metadata": {},
   "outputs": [
    {
     "data": {
      "text/plain": [
       "True"
      ]
     },
     "execution_count": 6,
     "metadata": {},
     "output_type": "execute_result"
    }
   ],
   "source": [
    "'''\n",
    "string에 substring이 있는지 확인하기\n",
    "'''\n",
    "#string1 = \"I play the violin when I'm thinking and sometimes I don't talk for days on end.\"\n",
    "string1 = \"It's good news for breathing.\"\n",
    "'good' in string1 # string1에 'good'이라는 substring이 있냐"
   ]
  },
  {
   "cell_type": "code",
   "execution_count": 10,
   "id": "0d5b4c1c",
   "metadata": {},
   "outputs": [
    {
     "data": {
      "text/plain": [
       "[\"It's\", 'good', 'news', 'for', 'breathing.']"
      ]
     },
     "execution_count": 10,
     "metadata": {},
     "output_type": "execute_result"
    }
   ],
   "source": [
    "'''\n",
    "spilt 함수 를 사용하여 공백을 기준으로 나누기\n",
    "'''\n",
    "string1.split()"
   ]
  },
  {
   "cell_type": "code",
   "execution_count": 12,
   "id": "6fb9ded5",
   "metadata": {},
   "outputs": [
    {
     "data": {
      "text/plain": [
       "1"
      ]
     },
     "execution_count": 12,
     "metadata": {},
     "output_type": "execute_result"
    }
   ],
   "source": [
    "'''\n",
    "split한 결과에서 특정 단어가 어느 인덱스에 있는지 찾기\n",
    "'''\n",
    "string1.split().index('good')"
   ]
  },
  {
   "cell_type": "code",
   "execution_count": 15,
   "id": "be450a5e",
   "metadata": {},
   "outputs": [
    {
     "data": {
      "text/plain": [
       "'athing.'"
      ]
     },
     "execution_count": 15,
     "metadata": {},
     "output_type": "execute_result"
    }
   ],
   "source": [
    "'''\n",
    "slicing으로 특정 인덱스의 문자에 접근\n",
    "'''\n",
    "string1[-7:]"
   ]
  },
  {
   "cell_type": "code",
   "execution_count": 17,
   "id": "9f03aa87",
   "metadata": {},
   "outputs": [
    {
     "data": {
      "text/plain": [
       "'breathing.'"
      ]
     },
     "execution_count": 17,
     "metadata": {},
     "output_type": "execute_result"
    }
   ],
   "source": [
    "'''\n",
    "split한 결과에서의 특정 인덱스에 있는 단어가 뭐냐\n",
    "'''\n",
    "string1.split()[4]"
   ]
  },
  {
   "cell_type": "code",
   "execution_count": 18,
   "id": "960bbc3d",
   "metadata": {},
   "outputs": [
    {
     "data": {
      "text/plain": [
       "'rof'"
      ]
     },
     "execution_count": 18,
     "metadata": {},
     "output_type": "execute_result"
    }
   ],
   "source": [
    "string1.split()[3][::-1] # split한 결과의 3번째 인덱스에 있는 단어를 reverse해라"
   ]
  },
  {
   "cell_type": "markdown",
   "id": "91715bd0",
   "metadata": {},
   "source": [
    "## String 다루기 | 한국어"
   ]
  },
  {
   "cell_type": "code",
   "execution_count": 19,
   "id": "504c42bf",
   "metadata": {},
   "outputs": [
    {
     "data": {
      "text/plain": [
       "True"
      ]
     },
     "execution_count": 19,
     "metadata": {},
     "output_type": "execute_result"
    }
   ],
   "source": [
    "'''\n",
    "파이썬은 유니코드를 지원하기 때문에 별도의 처리 없이 한글을 다룰 수 있다.\n",
    "'''\n",
    "string2 = '호떡 먹고 싶다 호떡 호떡'\n",
    "\n",
    "'호떡' in string2"
   ]
  },
  {
   "cell_type": "code",
   "execution_count": 20,
   "id": "f2922a8f",
   "metadata": {},
   "outputs": [
    {
     "data": {
      "text/plain": [
       "['호떡', '먹고', '싶다', '호떡', '호떡']"
      ]
     },
     "execution_count": 20,
     "metadata": {},
     "output_type": "execute_result"
    }
   ],
   "source": [
    "string2.split()"
   ]
  },
  {
   "cell_type": "code",
   "execution_count": 22,
   "id": "26659857",
   "metadata": {},
   "outputs": [
    {
     "data": {
      "text/plain": [
       "'호떡'"
      ]
     },
     "execution_count": 22,
     "metadata": {},
     "output_type": "execute_result"
    }
   ],
   "source": [
    "string2.split()[0] # split한 결과의 0번째 인덱스에 있는 원소가 뭐냐"
   ]
  },
  {
   "cell_type": "markdown",
   "id": "1c3ea693",
   "metadata": {},
   "source": [
    "## 정규화"
   ]
  },
  {
   "cell_type": "code",
   "execution_count": 23,
   "id": "a09a46fd",
   "metadata": {},
   "outputs": [
    {
     "name": "stdout",
     "output_type": "stream",
     "text": [
      "The United Kingdom leant towards the Untitled.ipynbnited States proposal.\n"
     ]
    }
   ],
   "source": [
    "'''\n",
    "텍스트에 존재하는 단어들의 통일성에 신경을 써야 처리가 편하다. \n",
    "코퍼스의 전반적인 정규화/변환과정은 자연어를 처리할 때 꼭 필요하다.\n",
    "'''\n",
    "# s1 = 'I can always predict the fortune cookies 12 34 56'\n",
    "s1 = 'The UK leant towards the US proposal.'\n",
    "# UK와 US를 풀어쓰는 방식으로 바꿔주자.\n",
    "s1_1 = s1.replace(\"UK\", \"United Kingdom\").replace(\"US\", \"Untitled.ipynbnited States\")\n",
    "print(s1_1)"
   ]
  },
  {
   "cell_type": "markdown",
   "id": "97e63399",
   "metadata": {},
   "source": [
    "## 정규표현식(Regular Expression)\n",
    "\n",
    "정규표현식을 통해 특정 문자드을 편하게 지정할 수 있고, 지정한 것을 통해 텍스트에 추가 혹은 삭제 처리를 할 수 있다.코퍼스 전처리 단계에서 정규표현식이 많이 사용된다. 예를 들어 텍스트에 번호가 포함되어 있는지 알아보는 등에 쓰인다.\n",
    "\n",
    "> 정규 표현식 문법\n",
    "  \n",
    "| 특수문자 | 설명 |\n",
    "| - | - |\n",
    "| `.` | . 앞의 문자 1개가 있냐 |\n",
    "| `?` | ? 앞의 문자 1개가 있냐(하지만 그 문자가 존재할 수도, 존재하지 않을 수도 있음) |\n",
    "| `*` | * 앞의 문자가 0개 이상 존재하냐 |\n",
    "| `+` | + 앞의 문자가 최소 1개 이상 있냐 |\n",
    "| `^` | ^ 뒤의 문자로 문자열이 시작하냐 |\n",
    "| `\\$` | '$` 앞의 문자로 문자열이 끝나냐 |\n",
    "| `\\{n\\}` | `n`번만큼 반복 |\n",
    "| `\\{n1, n2\\}` | `n1` 이상, `n2` 이하만큼 반복하냐 (n2를 지정하지 않을 경우, `n1` 이상만 반복하냐) |\n",
    "| `\\[ abc \\]` | 대괄호 안의 문자 중 한 개의 문자와 매치되냐(a-z처럼 범위도 지정 가능) |\n",
    "| `\\[ ^a \\]` | 대괄호 안의 문자를 제외하고 매치 |\n",
    "| `a\\|b` | `a` 또는 `b`(파이프라인 (\\|)은 일반적으로 '또는'의 의미로 사용된다) |\n",
    "\n",
    "\n",
    "\n",
    "> 역슬래시(\\\\)를 이용한 정규 표현식 문자 규칙\n",
    "\n",
    "| 문자 | 설명 |\n",
    "| - | - |\n",
    "| `\\\\` | 역슬래시 그자체 |\n",
    "| `\\d` | digit. 모든 숫자(= [0-9]) |\n",
    "| `\\D` | 숫자를 제외한 모든 문자(= [^0-9]) |\n",
    "| `\\s` | space. 공백(= [ \\t\\n\\r\\f\\v]) |\n",
    "| `\\S` | 공백을 제외한 모든 문자(= [^ \\t\\n\\r\\f\\v]) |\n",
    "| `\\w` | word. 문자와 숫자(= [a-zA-Z0-9]) |\n",
    "| `\\W` | 문자와 숫자를 제외한 다른 문자(= [^a-zA-Z0-9]) |"
   ]
  },
  {
   "cell_type": "markdown",
   "id": "4f246c81",
   "metadata": {},
   "source": [
    "### 정규표현식 | match | 영어"
   ]
  },
  {
   "cell_type": "code",
   "execution_count": 27,
   "id": "94ee0d60",
   "metadata": {},
   "outputs": [
    {
     "name": "stdout",
     "output_type": "stream",
     "text": [
      "about 'abc':  <re.Match object; span=(0, 3), match='abc'>\n",
      "about 'abc':  <re.Match object; span=(0, 3), match='abc'>\n",
      "about 'c':  None\n",
      "about 'ab':  None\n"
     ]
    }
   ],
   "source": [
    "import re # 정규표현식ㅇ르 사용할 때 re 라이브러리를 불러와야 한다.\n",
    "\n",
    "check1 = 'ab.'\n",
    "# ab. -> ab하고 '.'부분에 문자가 하나라도 오냐\n",
    "print(\"about 'abc': \", re.match(check1, 'abc')) \n",
    "print(\"about 'abc': \", re.match(check1, 'abcd')) \n",
    "print(\"about 'c': \", re.match(check1, 'c'))\n",
    "print(\"about 'ab': \", re.match(check1, 'ab'))"
   ]
  },
  {
   "cell_type": "markdown",
   "id": "e1a91d6c",
   "metadata": {},
   "source": [
    "### 정규표현식 | match | 한국어"
   ]
  },
  {
   "cell_type": "code",
   "execution_count": 56,
   "id": "4a7a6018",
   "metadata": {},
   "outputs": [
    {
     "name": "stdout",
     "output_type": "stream",
     "text": [
      "<re.Match object; span=(0, 1), match='ㅎ'>\n",
      "None\n"
     ]
    }
   ],
   "source": [
    "import re\n",
    "check2 = '[ㄱ-ㅎ]+' # ㄱ부터 ㅎ까지의 한글 자음이 나오고 그 뒤로 문자가 최소 하나 이상 오냐\n",
    "\n",
    "# check2에 등록한 정규표현식에 걸리는 애를 찾아라\n",
    "print(re.match(check2, 'ㅎ안녕'))\n",
    "print(re.match(check2, '안녕ㅎ'))\n",
    "# ㄱ-ㅎ에 걸리는 'ㅎ 안녕'에서 ㅎ이 걸렸다.\n",
    "# 걸린게 없다"
   ]
  },
  {
   "cell_type": "markdown",
   "id": "464ddb9a",
   "metadata": {},
   "source": [
    "### 정규표현식 | compile | 영어\n",
    "\n",
    "re 라이브러리의 compile을 사용하면 정규표현식을 사용할 때마다 정의하지 않고 한번 정의한 후에 불러오는 방식으로 쓸 수 있어서 빠르고 편리하다."
   ]
  },
  {
   "cell_type": "code",
   "execution_count": 29,
   "id": "4518d6fc",
   "metadata": {},
   "outputs": [
    {
     "name": "stdout",
     "output_type": "stream",
     "text": [
      "compile 안 쓴 버전:  0.0010042190551757812\n",
      "compile 쓴 버전:  0.0009706020355224609\n"
     ]
    }
   ],
   "source": [
    "'''\n",
    "compile을 쓴 버전과 안 쓴 버전의 속도 차를 확인해보자\n",
    "'''\n",
    "import re \n",
    "import time # 시간을 체크하기 위해 time을 불러온다.\n",
    "\n",
    "text1 = 'abc def abg'\n",
    "\n",
    "normal_start = time.time() # 시작\n",
    "r1 = 'ab.'\n",
    "for i in range(1001): # i를 1001번 돌린다.\n",
    "    re.match(r1, text1) # text1이 ab어쩌고인지 확인해라\n",
    "print(\"compile 안 쓴 버전: \", time.time() - normal_start) # 끝시간 - 시작시간\n",
    "\n",
    "compile_start = time.time() # 시작\n",
    "r2 = re.compile('ab.') # compile\n",
    "for i in range(1001): # i를 1001번 돌린다.\n",
    "    result = r2.match(text1) # re가 아니라 re.compile한 객체를 불러온다\n",
    "print('compile 쓴 버전: ', time.time() - compile_start)"
   ]
  },
  {
   "cell_type": "markdown",
   "id": "dbce9dac",
   "metadata": {},
   "source": [
    "### 정규표현식 | search | 영어\n",
    "\n",
    "match는 문자열 처음에 해당 표현이 없으면 바로 끝나고\n",
    "\n",
    "search는 문자열 전체를 검사해서 해당 표현에 매칭되는게 있는지 찾아낸다."
   ]
  },
  {
   "cell_type": "code",
   "execution_count": 32,
   "id": "c89be3fe",
   "metadata": {},
   "outputs": [
    {
     "name": "stdout",
     "output_type": "stream",
     "text": [
      "a에 대해 search:  <re.Match object; span=(11, 14), match='abc'>\n",
      "a에 대해 match:  None\n",
      "abhey에 대해 search:  <re.Match object; span=(7, 10), match='abh'>\n",
      "abhey에 대해 match:  None\n",
      "heyab에 대해 search:  None\n",
      "heyab에 대해 match:  None\n"
     ]
    }
   ],
   "source": [
    "r1 = re.compile('ab.')\n",
    "\n",
    "print(\"a에 대해 search: \",r1.search('a euosblkg abc'))\n",
    "print(\"a에 대해 match: \",r1.match('a euosblkg abc'))\n",
    "\n",
    "print(\"abhey에 대해 search: \",r1.search('jigdas abhey'))\n",
    "print(\"abhey에 대해 match: \",r1.match('jigdas abhey'))\n",
    "\n",
    "print(\"heyab에 대해 search: \",r1.search('det sryh heyab'))\n",
    "print(\"heyab에 대해 match: \",r1.match('det sryh heyab'))"
   ]
  },
  {
   "cell_type": "markdown",
   "id": "f3eda05f",
   "metadata": {},
   "source": [
    "### 정규표현식 | search | 한국어"
   ]
  },
  {
   "cell_type": "code",
   "execution_count": 67,
   "id": "ad0dd156",
   "metadata": {},
   "outputs": [
    {
     "name": "stdout",
     "output_type": "stream",
     "text": [
      "<re.Match object; span=(0, 1), match='ㅎ'>\n",
      "<re.Match object; span=(0, 1), match='ㅎ'>\n",
      "<re.Match object; span=(2, 3), match='ㅎ'>\n",
      "None\n"
     ]
    }
   ],
   "source": [
    "check2 = '[ㄱ-ㅎ | ㅏ-ㅣ]+'\n",
    "print(re.search(check2, 'ㅎ안녕'))\n",
    "print(re.match(check2, 'ㅎ안녕'))\n",
    "print(re.search(check2, '안녕ㅎ'))\n",
    "# match는 앞에서부터 차례로 체크하는데 처음부터 걸린게 없어서 None이 반환된다.\n",
    "print(re.match(check2, '안녕ㅎ')) "
   ]
  },
  {
   "cell_type": "markdown",
   "id": "a5a8c7b7",
   "metadata": {},
   "source": [
    "### 정규표현식 | split | 영어\n",
    "\n",
    "split에 정규표현식을 사용하여 정규표현식에 해당하는 문자열을 기준으로 문자열을 나눌 수 있다."
   ]
  },
  {
   "cell_type": "code",
   "execution_count": 34,
   "id": "7770feb0",
   "metadata": {},
   "outputs": [
    {
     "name": "stdout",
     "output_type": "stream",
     "text": [
      "['abc', '1', 'd5ef', '3', 'ccb', '2', 'ca2d']\n"
     ]
    }
   ],
   "source": [
    "s1 = 'abc 1 d5ef 3 ccb 2 ca2d'\n",
    "r1 = re.compile(' ') # compile을 사용하여 공백을 표현\n",
    "print(r1.split(s1)) # 문자열 s1을 compile한 결과가 담긴 객채를 통해 split해준다.\n",
    "# 공백을 기준으로 split될 결과가 반환된다."
   ]
  },
  {
   "cell_type": "code",
   "execution_count": 35,
   "id": "d38f1d31",
   "metadata": {},
   "outputs": [
    {
     "name": "stdout",
     "output_type": "stream",
     "text": [
      "['ab', ' 1 d5ef 3 ', '', 'b 2 ', 'a2d']\n"
     ]
    }
   ],
   "source": [
    "r2 = re.compile('c')\n",
    "print(r2.split(s1)) # 'c'를 기준으로 나눈다"
   ]
  },
  {
   "cell_type": "code",
   "execution_count": 37,
   "id": "3b918103",
   "metadata": {},
   "outputs": [
    {
     "name": "stdout",
     "output_type": "stream",
     "text": [
      "['abc ', ' d', 'ef ', ' ccb ', ' ca', 'd']\n"
     ]
    }
   ],
   "source": [
    "r3 = re.compile('[0-9]')\n",
    "print(r3.split(s1)) # 0-9 사이의 숫자를 기준으로 나눈다"
   ]
  },
  {
   "cell_type": "markdown",
   "id": "114ba79c",
   "metadata": {},
   "source": [
    "### sub | 영어\n",
    "\n",
    "정규표현식으로 걸린 부분을 다른 문자열로 대체하는 함수이다.\n",
    "\n",
    "replace라고 생각하면 된다."
   ]
  },
  {
   "cell_type": "code",
   "execution_count": 48,
   "id": "bd75380c",
   "metadata": {},
   "outputs": [
    {
     "name": "stdout",
     "output_type": "stream",
     "text": [
      "111 1 1511 3 111 2 1121\n",
      "457758\n"
     ]
    }
   ],
   "source": [
    "s2 = '457758'\n",
    "print(re.sub('[a-z]', '1', s1)) # s1에서 a-z에 포함된 것들을 모두 1로 바꿔라\n",
    "print(re.sub('[a-z]', '1', s2)) # s2에서 a-z에 포함된 것들을 모두 1로 바꿔라"
   ]
  },
  {
   "cell_type": "code",
   "execution_count": 47,
   "id": "afe36250",
   "metadata": {},
   "outputs": [
    {
     "name": "stdout",
     "output_type": "stream",
     "text": [
      "abc111d1ef111ccb111ca1d\n",
      "111111\n"
     ]
    }
   ],
   "source": [
    "print(re.sub('[^a-z]', '1', s1)) # s1에서 a-z에 포함되지 않은 것들을 모두 1로 바꿔라\n",
    "print(re.sub('[^a-z]', '1', s2)) # s2에서 a-z에 포함되지 않은 것들을 모두 1로 바꿔라"
   ]
  },
  {
   "cell_type": "markdown",
   "id": "70c81ed8",
   "metadata": {},
   "source": [
    "### sub | 한국어"
   ]
  },
  {
   "cell_type": "code",
   "execution_count": 70,
   "id": "5185fa64",
   "metadata": {},
   "outputs": [
    {
     "name": "stdout",
     "output_type": "stream",
     "text": [
      "1111\n",
      "안녕안녕\n"
     ]
    }
   ],
   "source": [
    "# [가-힣]는 모든 한글 자모 조합을 표현하는 정규표현이다.\n",
    "# '안녕안녕'에서 해당 정규 표현식에 걸리는 게 있으면 다 1로 바꿔라\n",
    "print(re.sub('[가-힣]', '1', '안녕안녕')) \n",
    "# '안녕안녕'에서 [가-힣]에 포함되지 않는 것만 1로 바꿔라\n",
    "print(re.sub('[^가-힣]', '1', '안녕안녕')) "
   ]
  },
  {
   "cell_type": "markdown",
   "id": "e369d601",
   "metadata": {},
   "source": [
    "### findall\n",
    "\n",
    "정규표현식에 해당하는 모든 문자열을 찾아서 리스트에 담아 반환한다."
   ]
  },
  {
   "cell_type": "code",
   "execution_count": 51,
   "id": "b88e63a4",
   "metadata": {},
   "outputs": [
    {
     "name": "stdout",
     "output_type": "stream",
     "text": [
      "['1', '5', '3', '2', '2']\n",
      "['#', '@', '%', '$', '^', '%', '&']\n"
     ]
    }
   ],
   "source": [
    "print(re.findall('[\\d]',s1)) # s1에서 숫자를 다 뽑아내라\n",
    "# 해당 문자열에서 문자나 숫자가 아닌 걸 다 뽑아내라\n",
    "print(re.findall('[\\W]','1#sjspoen@%$^%&95736')) "
   ]
  },
  {
   "cell_type": "markdown",
   "id": "fa10ba5b",
   "metadata": {},
   "source": [
    "### finditer\n",
    "\n",
    "find한 결과를 iterator객체로 반환하는 함수이다.\n",
    "iterator객체에 담겨있기 때문에 하나씩 빼주는 작업을 통해 결과를 하나씩 확인할 수 있다."
   ]
  },
  {
   "cell_type": "code",
   "execution_count": 52,
   "id": "cd8c035d",
   "metadata": {},
   "outputs": [
    {
     "name": "stdout",
     "output_type": "stream",
     "text": [
      "iter1:  <callable_iterator object at 0x0000021C924383C8>\n",
      "iter1에서 찾은 결과:  <re.Match object; span=(4, 5), match='1'>\n",
      "iter1에서 찾은 결과:  <re.Match object; span=(7, 8), match='5'>\n",
      "iter1에서 찾은 결과:  <re.Match object; span=(11, 12), match='3'>\n",
      "iter1에서 찾은 결과:  <re.Match object; span=(17, 18), match='2'>\n",
      "iter1에서 찾은 결과:  <re.Match object; span=(21, 22), match='2'>\n"
     ]
    }
   ],
   "source": [
    "iter1 = re.finditer('[\\d]',s1) # s1에서 숫자를 다 뽑아내라\n",
    "print(\"iter1: \", iter1) # iter1을 출력해보면 iterator객체에 담겨있다고 나온다\n",
    "\n",
    "for i in iter1: # iter1에 한번씩 방문하여 들어있는 걸 꺼내서 출력하자\n",
    "    print(\"iter1에서 찾은 결과: \",i)\n"
   ]
  },
  {
   "cell_type": "code",
   "execution_count": 53,
   "id": "51d5c8db",
   "metadata": {},
   "outputs": [
    {
     "name": "stdout",
     "output_type": "stream",
     "text": [
      "iter2:  <callable_iterator object at 0x0000021C92438688>\n",
      "<re.Match object; span=(10, 11), match='$'>\n",
      "<re.Match object; span=(11, 12), match='$'>\n",
      "<re.Match object; span=(12, 13), match='^'>\n",
      "<re.Match object; span=(13, 14), match='%'>\n",
      "<re.Match object; span=(14, 15), match='&'>\n",
      "<re.Match object; span=(15, 16), match='#'>\n"
     ]
    }
   ],
   "source": [
    "iter2 = re.finditer('[\\W]', 'nkisdb3845$$^%&#')\n",
    "print(\"iter2: \", iter2)\n",
    "\n",
    "for i in iter2:\n",
    "    print(i)"
   ]
  },
  {
   "cell_type": "code",
   "execution_count": 5,
   "id": "eee6579d",
   "metadata": {},
   "outputs": [],
   "source": [
    "from konlpy.tag import Mecab"
   ]
  },
  {
   "cell_type": "code",
   "execution_count": null,
   "id": "fcd02fdb",
   "metadata": {},
   "outputs": [],
   "source": []
  }
 ],
 "metadata": {
  "kernelspec": {
   "display_name": "Python 3",
   "language": "python",
   "name": "python3"
  },
  "language_info": {
   "codemirror_mode": {
    "name": "ipython",
    "version": 3
   },
   "file_extension": ".py",
   "mimetype": "text/x-python",
   "name": "python",
   "nbconvert_exporter": "python",
   "pygments_lexer": "ipython3",
   "version": "3.7.11"
  },
  "toc": {
   "base_numbering": 1,
   "nav_menu": {},
   "number_sections": true,
   "sideBar": true,
   "skip_h1_title": false,
   "title_cell": "Table of Contents",
   "title_sidebar": "Contents",
   "toc_cell": true,
   "toc_position": {},
   "toc_section_display": true,
   "toc_window_display": false
  }
 },
 "nbformat": 4,
 "nbformat_minor": 5
}
