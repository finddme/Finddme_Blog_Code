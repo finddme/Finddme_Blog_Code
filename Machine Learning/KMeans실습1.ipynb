{
  "nbformat": 4,
  "nbformat_minor": 5,
  "metadata": {
    "kernelspec": {
      "display_name": "Python 3",
      "language": "python",
      "name": "python3"
    },
    "language_info": {
      "codemirror_mode": {
        "name": "ipython",
        "version": 3
      },
      "file_extension": ".py",
      "mimetype": "text/x-python",
      "name": "python",
      "nbconvert_exporter": "python",
      "pygments_lexer": "ipython3",
      "version": "3.7.10"
    },
    "toc": {
      "base_numbering": 1,
      "nav_menu": {},
      "number_sections": true,
      "sideBar": true,
      "skip_h1_title": false,
      "title_cell": "Table of Contents",
      "title_sidebar": "Contents",
      "toc_cell": true,
      "toc_position": {},
      "toc_section_display": true,
      "toc_window_display": false
    },
    "colab": {
      "name": "KMeans실습1.ipynb",
      "provenance": [],
      "include_colab_link": true
    }
  },
  "cells": [
    {
      "cell_type": "markdown",
      "metadata": {
        "id": "view-in-github",
        "colab_type": "text"
      },
      "source": [
        "<a href=\"https://colab.research.google.com/github/finddme/MachineLearning/blob/master/KMeans%EC%8B%A4%EC%8A%B51.ipynb\" target=\"_parent\"><img src=\"https://colab.research.google.com/assets/colab-badge.svg\" alt=\"Open In Colab\"/></a>"
      ]
    },
    {
      "cell_type": "markdown",
      "metadata": {
        "toc": true,
        "id": "22171da6"
      },
      "source": [
        "<h1>Table of Contents<span class=\"tocSkip\"></span></h1>\n",
        "<div class=\"toc\"><ul class=\"toc-item\"><li><span><a href=\"#K-Means-|-실습1\" data-toc-modified-id=\"K-Means-|-실습1-1\"><span class=\"toc-item-num\">1&nbsp;&nbsp;</span>K-Means | 실습1</a></span><ul class=\"toc-item\"><li><span><a href=\"#K-Means-|-실습1-|-데이터-형성\" data-toc-modified-id=\"K-Means-|-실습1-|-데이터-형성-1.1\"><span class=\"toc-item-num\">1.1&nbsp;&nbsp;</span>K-Means | 실습1 | 데이터 형성</a></span></li><li><span><a href=\"#K-Means-|-실습1-|-데이터-시각화\" data-toc-modified-id=\"K-Means-|-실습1-|-데이터-시각화-1.2\"><span class=\"toc-item-num\">1.2&nbsp;&nbsp;</span>K-Means | 실습1 | 데이터 시각화</a></span></li><li><span><a href=\"#K-Means-|-실습1-|-K-Means-수행\" data-toc-modified-id=\"K-Means-|-실습1-|-K-Means-수행-1.3\"><span class=\"toc-item-num\">1.3&nbsp;&nbsp;</span>K-Means | 실습1 | K-Means 수행</a></span></li></ul></li></ul></div>"
      ],
      "id": "22171da6"
    },
    {
      "cell_type": "markdown",
      "metadata": {
        "id": "cad41aed"
      },
      "source": [
        "### K-Means | 실습1"
      ],
      "id": "cad41aed"
    },
    {
      "cell_type": "code",
      "metadata": {
        "id": "ad85d270"
      },
      "source": [
        "from sklearn.cluster import KMeans # KMeans 라이브러리를 불러온다.\n",
        "import numpy as np\n",
        "import pandas as pd \n",
        "import seaborn as sns # 데이터 시각화를 위한 seaborn과 matplotlib을 불러온다.\n",
        "import matplotlib.pyplot as plt\n",
        "%matplotlib inline"
      ],
      "id": "ad85d270",
      "execution_count": null,
      "outputs": []
    },
    {
      "cell_type": "markdown",
      "metadata": {
        "id": "1fa83e17"
      },
      "source": [
        "#### K-Means | 실습1 | 데이터 형성"
      ],
      "id": "1fa83e17"
    },
    {
      "cell_type": "code",
      "metadata": {
        "id": "47354c4a",
        "outputId": "6ea1a400-1dda-4efb-cfaf-cc0c05943a07"
      },
      "source": [
        "# 데이터프레임을 하나 만든다.\n",
        "df1 = pd.DataFrame(columns=['x','y'], dtype = 'float')\n",
        "print(df1)"
      ],
      "id": "47354c4a",
      "execution_count": null,
      "outputs": [
        {
          "output_type": "stream",
          "text": [
            "Empty DataFrame\n",
            "Columns: [x, y]\n",
            "Index: []\n"
          ],
          "name": "stdout"
        }
      ]
    },
    {
      "cell_type": "code",
      "metadata": {
        "id": "a3b4caba"
      },
      "source": [
        "# 클러스터링을 수행할 데이터를 앞서 만든 데이터프레임에 채워준다.\n",
        "# 좌표평면 위에 표현할 수 있는 데이터를 넣어준다. x축, y축.\n",
        "# [x값, y값]\n",
        "# 총 31개.\n",
        "df1.loc[0] = [2, 9]\n",
        "df1.loc[1] = [6, 1]\n",
        "df1.loc[2] = [29, 30]\n",
        "df1.loc[3] = [7, 20]\n",
        "df1.loc[4] = [23, 31]\n",
        "df1.loc[5] = [36, 23]\n",
        "df1.loc[6] = [10, 4]\n",
        "df1.loc[7] = [4, 7]\n",
        "df1.loc[8] = [8, 23]\n",
        "df1.loc[9] = [22, 6]\n",
        "df1.loc[10] = [34, 24]\n",
        "df1.loc[11] = [21, 37]\n",
        "df1.loc[12] = [17, 8]\n",
        "df1.loc[13] = [19, 1]\n",
        "df1.loc[14] = [35, 34]\n",
        "df1.loc[15] = [38, 28]\n",
        "df1.loc[16] = [1, 5]\n",
        "df1.loc[17] = [16, 22]\n",
        "df1.loc[18] = [30, 15]\n",
        "df1.loc[19] = [5, 28]\n",
        "df1.loc[20] = [18, 3]\n",
        "df1.loc[21] = [14, 17]\n",
        "df1.loc[22] = [27, 19]\n",
        "df1.loc[23] = [39, 14]\n",
        "df1.loc[24] = [23, 29]\n",
        "df1.loc[25] = [3, 39]\n",
        "df1.loc[26] = [9, 27]\n",
        "df1.loc[27] = [20, 26]\n",
        "df1.loc[28] = [11, 16]\n",
        "df1.loc[29] = [14, 6]\n",
        "df1.loc[30] = [33, 2]"
      ],
      "id": "a3b4caba",
      "execution_count": null,
      "outputs": []
    },
    {
      "cell_type": "code",
      "metadata": {
        "id": "2ca08af9",
        "outputId": "ba108c03-78ae-42e4-f987-13d2c258662e"
      },
      "source": [
        "# head 함수를 사용해서 위에서 데이터를 하나하나 넣은 데이터프레임을 출력해본다.\n",
        "df1.head(31)"
      ],
      "id": "2ca08af9",
      "execution_count": null,
      "outputs": [
        {
          "output_type": "execute_result",
          "data": {
            "text/html": [
              "<div>\n",
              "<style scoped>\n",
              "    .dataframe tbody tr th:only-of-type {\n",
              "        vertical-align: middle;\n",
              "    }\n",
              "\n",
              "    .dataframe tbody tr th {\n",
              "        vertical-align: top;\n",
              "    }\n",
              "\n",
              "    .dataframe thead th {\n",
              "        text-align: right;\n",
              "    }\n",
              "</style>\n",
              "<table border=\"1\" class=\"dataframe\">\n",
              "  <thead>\n",
              "    <tr style=\"text-align: right;\">\n",
              "      <th></th>\n",
              "      <th>x</th>\n",
              "      <th>y</th>\n",
              "    </tr>\n",
              "  </thead>\n",
              "  <tbody>\n",
              "    <tr>\n",
              "      <th>0</th>\n",
              "      <td>2.0</td>\n",
              "      <td>9.0</td>\n",
              "    </tr>\n",
              "    <tr>\n",
              "      <th>1</th>\n",
              "      <td>6.0</td>\n",
              "      <td>1.0</td>\n",
              "    </tr>\n",
              "    <tr>\n",
              "      <th>2</th>\n",
              "      <td>29.0</td>\n",
              "      <td>30.0</td>\n",
              "    </tr>\n",
              "    <tr>\n",
              "      <th>3</th>\n",
              "      <td>7.0</td>\n",
              "      <td>20.0</td>\n",
              "    </tr>\n",
              "    <tr>\n",
              "      <th>4</th>\n",
              "      <td>23.0</td>\n",
              "      <td>31.0</td>\n",
              "    </tr>\n",
              "    <tr>\n",
              "      <th>5</th>\n",
              "      <td>36.0</td>\n",
              "      <td>23.0</td>\n",
              "    </tr>\n",
              "    <tr>\n",
              "      <th>6</th>\n",
              "      <td>10.0</td>\n",
              "      <td>4.0</td>\n",
              "    </tr>\n",
              "    <tr>\n",
              "      <th>7</th>\n",
              "      <td>4.0</td>\n",
              "      <td>7.0</td>\n",
              "    </tr>\n",
              "    <tr>\n",
              "      <th>8</th>\n",
              "      <td>8.0</td>\n",
              "      <td>23.0</td>\n",
              "    </tr>\n",
              "    <tr>\n",
              "      <th>9</th>\n",
              "      <td>22.0</td>\n",
              "      <td>6.0</td>\n",
              "    </tr>\n",
              "    <tr>\n",
              "      <th>10</th>\n",
              "      <td>34.0</td>\n",
              "      <td>24.0</td>\n",
              "    </tr>\n",
              "    <tr>\n",
              "      <th>11</th>\n",
              "      <td>21.0</td>\n",
              "      <td>37.0</td>\n",
              "    </tr>\n",
              "    <tr>\n",
              "      <th>12</th>\n",
              "      <td>17.0</td>\n",
              "      <td>8.0</td>\n",
              "    </tr>\n",
              "    <tr>\n",
              "      <th>13</th>\n",
              "      <td>19.0</td>\n",
              "      <td>1.0</td>\n",
              "    </tr>\n",
              "    <tr>\n",
              "      <th>14</th>\n",
              "      <td>35.0</td>\n",
              "      <td>34.0</td>\n",
              "    </tr>\n",
              "    <tr>\n",
              "      <th>15</th>\n",
              "      <td>38.0</td>\n",
              "      <td>28.0</td>\n",
              "    </tr>\n",
              "    <tr>\n",
              "      <th>16</th>\n",
              "      <td>1.0</td>\n",
              "      <td>5.0</td>\n",
              "    </tr>\n",
              "    <tr>\n",
              "      <th>17</th>\n",
              "      <td>16.0</td>\n",
              "      <td>22.0</td>\n",
              "    </tr>\n",
              "    <tr>\n",
              "      <th>18</th>\n",
              "      <td>30.0</td>\n",
              "      <td>15.0</td>\n",
              "    </tr>\n",
              "    <tr>\n",
              "      <th>19</th>\n",
              "      <td>5.0</td>\n",
              "      <td>28.0</td>\n",
              "    </tr>\n",
              "    <tr>\n",
              "      <th>20</th>\n",
              "      <td>18.0</td>\n",
              "      <td>3.0</td>\n",
              "    </tr>\n",
              "    <tr>\n",
              "      <th>21</th>\n",
              "      <td>14.0</td>\n",
              "      <td>17.0</td>\n",
              "    </tr>\n",
              "    <tr>\n",
              "      <th>22</th>\n",
              "      <td>27.0</td>\n",
              "      <td>19.0</td>\n",
              "    </tr>\n",
              "    <tr>\n",
              "      <th>23</th>\n",
              "      <td>39.0</td>\n",
              "      <td>14.0</td>\n",
              "    </tr>\n",
              "    <tr>\n",
              "      <th>24</th>\n",
              "      <td>23.0</td>\n",
              "      <td>29.0</td>\n",
              "    </tr>\n",
              "    <tr>\n",
              "      <th>25</th>\n",
              "      <td>3.0</td>\n",
              "      <td>39.0</td>\n",
              "    </tr>\n",
              "    <tr>\n",
              "      <th>26</th>\n",
              "      <td>9.0</td>\n",
              "      <td>27.0</td>\n",
              "    </tr>\n",
              "    <tr>\n",
              "      <th>27</th>\n",
              "      <td>20.0</td>\n",
              "      <td>26.0</td>\n",
              "    </tr>\n",
              "    <tr>\n",
              "      <th>28</th>\n",
              "      <td>11.0</td>\n",
              "      <td>16.0</td>\n",
              "    </tr>\n",
              "    <tr>\n",
              "      <th>29</th>\n",
              "      <td>14.0</td>\n",
              "      <td>6.0</td>\n",
              "    </tr>\n",
              "    <tr>\n",
              "      <th>30</th>\n",
              "      <td>33.0</td>\n",
              "      <td>2.0</td>\n",
              "    </tr>\n",
              "  </tbody>\n",
              "</table>\n",
              "</div>"
            ],
            "text/plain": [
              "       x     y\n",
              "0    2.0   9.0\n",
              "1    6.0   1.0\n",
              "2   29.0  30.0\n",
              "3    7.0  20.0\n",
              "4   23.0  31.0\n",
              "5   36.0  23.0\n",
              "6   10.0   4.0\n",
              "7    4.0   7.0\n",
              "8    8.0  23.0\n",
              "9   22.0   6.0\n",
              "10  34.0  24.0\n",
              "11  21.0  37.0\n",
              "12  17.0   8.0\n",
              "13  19.0   1.0\n",
              "14  35.0  34.0\n",
              "15  38.0  28.0\n",
              "16   1.0   5.0\n",
              "17  16.0  22.0\n",
              "18  30.0  15.0\n",
              "19   5.0  28.0\n",
              "20  18.0   3.0\n",
              "21  14.0  17.0\n",
              "22  27.0  19.0\n",
              "23  39.0  14.0\n",
              "24  23.0  29.0\n",
              "25   3.0  39.0\n",
              "26   9.0  27.0\n",
              "27  20.0  26.0\n",
              "28  11.0  16.0\n",
              "29  14.0   6.0\n",
              "30  33.0   2.0"
            ]
          },
          "metadata": {
            "tags": []
          },
          "execution_count": 34
        }
      ]
    },
    {
      "cell_type": "markdown",
      "metadata": {
        "id": "f3c8379a"
      },
      "source": [
        "#### K-Means | 실습1 | 데이터 시각화\n",
        "\n",
        "    - 데이터 프레임을 만들어준 후에는 데이터를 그래프 형태로 보면 좋다. 데이터의 관계성 파악이 용이해진다. "
      ],
      "id": "f3c8379a"
    },
    {
      "cell_type": "code",
      "metadata": {
        "id": "b9fbdd06",
        "outputId": "a3d30d38-4129-4a33-ae4d-65fadd5e3b74"
      },
      "source": [
        "'''\n",
        "# 기호의 크기를 넣어줄 때는 scatter_kws매개변수에 대한 값을 딕셔너리 형태로 넣어주면 된다. \n",
        "# seaborn라이브러리의 다변량 산점도 그래프를 그릴때 기호 크기 조절을 위해서 \n",
        "  scatter_kws속성에 딕셔너리값의 key부분에 's'(size)를 넣어주면 된다. \n",
        "# 그 다음 value부분에는 크기를 판별할 기준 변수를 넣어주면 된다\n",
        "# fit_reg옵션으로 회귀선을 제거해줄 수 있다.\n",
        "'''\n",
        "# seaborn라이브러리에 있는 함수를 통해 df1데이터의 x와 y에 대해 그래프를 그리겠다고 한다.\n",
        "sns.lmplot('x','y', data= df1, fit_reg=False, scatter_kws={'s': 100})\n",
        "plt.title('DATA') # 위 그래프의 제목을 설정해줄 수 있다.\n",
        "plt.xlabel('X') # x레이블은 X\n",
        "plt.ylabel('Y') # y레이블은 Y"
      ],
      "id": "b9fbdd06",
      "execution_count": null,
      "outputs": [
        {
          "output_type": "stream",
          "text": [
            "C:\\Users\\yein4\\Anaconda3\\lib\\site-packages\\seaborn\\_decorators.py:43: FutureWarning: Pass the following variables as keyword args: x, y. From version 0.12, the only valid positional argument will be `data`, and passing other arguments without an explicit keyword will result in an error or misinterpretation.\n",
            "  FutureWarning\n"
          ],
          "name": "stderr"
        },
        {
          "output_type": "execute_result",
          "data": {
            "text/plain": [
              "Text(10.049999999999997, 0.5, 'Y')"
            ]
          },
          "metadata": {
            "tags": []
          },
          "execution_count": 35
        },
        {
          "output_type": "display_data",
          "data": {
            "image/png": "[encoded data removed]",
            "text/plain": [
              "<Figure size 360x360 with 1 Axes>"
            ]
          },
          "metadata": {
            "tags": [],
            "needs_background": "light"
          }
        }
      ]
    },
    {
      "cell_type": "markdown",
      "metadata": {
        "id": "f6dbc80a"
      },
      "source": [
        "#### K-Means | 실습1 | K-Means 수행"
      ],
      "id": "f6dbc80a"
    },
    {
      "cell_type": "code",
      "metadata": {
        "id": "41ac4331",
        "outputId": "a24d1cf8-5cde-4d2b-86f2-32f525d62e61"
      },
      "source": [
        "# 이제 K-Means를 활용하여 클러스터링을 수행해보겠다.\n",
        "points1 = df1.values # 연산 수행을 위해 데이터프레임의 값들을 numpy객체로서 초기화해준다.\n",
        "points1[0:5]"
      ],
      "id": "41ac4331",
      "execution_count": null,
      "outputs": [
        {
          "output_type": "execute_result",
          "data": {
            "text/plain": [
              "array([[ 2.,  9.],\n",
              "       [ 6.,  1.],\n",
              "       [29., 30.],\n",
              "       [ 7., 20.],\n",
              "       [23., 31.]])"
            ]
          },
          "metadata": {
            "tags": []
          },
          "execution_count": 36
        }
      ]
    },
    {
      "cell_type": "code",
      "metadata": {
        "id": "42556642",
        "outputId": "e302003f-c8b4-4cdc-bd4e-316dd198f602"
      },
      "source": [
        "# 클러스터는 4개로 하고, ponits라는 데이터에 대해 K-Means를 수행한다.\n",
        "# K-Means 클러스터링의 초기 군집 중심점 좌표 설정 방식은 K-Means++이 default이다.\n",
        "kmeans1 = KMeans(n_clusters= 4).fit(points1)\n",
        "kmeans1.cluster_centers_ # 각 클러스터들의 중심 위치를 뽑아본다.\n",
        "# 4개의 클러스터 중심값의 위치(좌표)가 출력된다."
      ],
      "id": "42556642",
      "execution_count": null,
      "outputs": [
        {
          "output_type": "execute_result",
          "data": {
            "text/plain": [
              "array([[33.   , 14.6  ],\n",
              "       [11.3  ,  5.   ],\n",
              "       [ 9.125, 24.   ],\n",
              "       [27.875, 29.875]])"
            ]
          },
          "metadata": {
            "tags": []
          },
          "execution_count": 37
        }
      ]
    },
    {
      "cell_type": "code",
      "metadata": {
        "id": "5a3b5be2",
        "outputId": "7535ba4b-17ba-45d7-d601-b23590e9ad04"
      },
      "source": [
        "# kmeans를 수행했으니까 각 데이터들이 속한 클러스터를 확인해보자\n",
        "# 각 데이터의 인덱스에 해당 데이터의 소속 클러스터가 결과로 나온다.\n",
        "kmeans1.labels_ "
      ],
      "id": "5a3b5be2",
      "execution_count": null,
      "outputs": [
        {
          "output_type": "execute_result",
          "data": {
            "text/plain": [
              "array([1, 1, 3, 2, 3, 0, 1, 1, 2, 1, 3, 3, 1, 1, 3, 3, 1, 2, 0, 2, 1, 2,\n",
              "       0, 0, 3, 2, 2, 3, 2, 1, 0])"
            ]
          },
          "metadata": {
            "tags": []
          },
          "execution_count": 38
        }
      ]
    },
    {
      "cell_type": "code",
      "metadata": {
        "id": "241a2ee6",
        "outputId": "39a5fde5-c1ba-45c1-aa3e-2468fd782a8f"
      },
      "source": [
        "# 시각화를 위해 'cluster'라는 이름으로 df1데이터프레임에 각 데이터의 클러스터 결과를 넣어준다.\n",
        "df1['cluster'] = kmeans1.labels_\n",
        "df1.head(5)\n",
        "# 각 데이터들이 어떤 클러스터에 속하는지 출력된다."
      ],
      "id": "241a2ee6",
      "execution_count": null,
      "outputs": [
        {
          "output_type": "execute_result",
          "data": {
            "text/html": [
              "<div>\n",
              "<style scoped>\n",
              "    .dataframe tbody tr th:only-of-type {\n",
              "        vertical-align: middle;\n",
              "    }\n",
              "\n",
              "    .dataframe tbody tr th {\n",
              "        vertical-align: top;\n",
              "    }\n",
              "\n",
              "    .dataframe thead th {\n",
              "        text-align: right;\n",
              "    }\n",
              "</style>\n",
              "<table border=\"1\" class=\"dataframe\">\n",
              "  <thead>\n",
              "    <tr style=\"text-align: right;\">\n",
              "      <th></th>\n",
              "      <th>x</th>\n",
              "      <th>y</th>\n",
              "      <th>cluster</th>\n",
              "    </tr>\n",
              "  </thead>\n",
              "  <tbody>\n",
              "    <tr>\n",
              "      <th>0</th>\n",
              "      <td>2.0</td>\n",
              "      <td>9.0</td>\n",
              "      <td>1</td>\n",
              "    </tr>\n",
              "    <tr>\n",
              "      <th>1</th>\n",
              "      <td>6.0</td>\n",
              "      <td>1.0</td>\n",
              "      <td>1</td>\n",
              "    </tr>\n",
              "    <tr>\n",
              "      <th>2</th>\n",
              "      <td>29.0</td>\n",
              "      <td>30.0</td>\n",
              "      <td>3</td>\n",
              "    </tr>\n",
              "    <tr>\n",
              "      <th>3</th>\n",
              "      <td>7.0</td>\n",
              "      <td>20.0</td>\n",
              "      <td>2</td>\n",
              "    </tr>\n",
              "    <tr>\n",
              "      <th>4</th>\n",
              "      <td>23.0</td>\n",
              "      <td>31.0</td>\n",
              "      <td>3</td>\n",
              "    </tr>\n",
              "  </tbody>\n",
              "</table>\n",
              "</div>"
            ],
            "text/plain": [
              "      x     y  cluster\n",
              "0   2.0   9.0        1\n",
              "1   6.0   1.0        1\n",
              "2  29.0  30.0        3\n",
              "3   7.0  20.0        2\n",
              "4  23.0  31.0        3"
            ]
          },
          "metadata": {
            "tags": []
          },
          "execution_count": 39
        }
      ]
    },
    {
      "cell_type": "code",
      "metadata": {
        "id": "f7f56585",
        "outputId": "30f93266-bb31-4e17-9f89-f8980163610c"
      },
      "source": [
        "# cluster속성을 기준으로, df1데이터의 x와 y에 대해 그래프를 그리겠다.\n",
        "# 즉, 그래프의 색상은 'cluster'를 기준으로 다르게 표현하겠다\n",
        "sns.lmplot('x', 'y', data= df1, fit_reg= False, scatter_kws={'s':100},hue=\"cluster\")\n",
        "plt.title('K-Means Test')\n",
        "plt.xlabel('X')\n",
        "plt.ylabel('Y')"
      ],
      "id": "f7f56585",
      "execution_count": null,
      "outputs": [
        {
          "output_type": "stream",
          "text": [
            "C:\\Users\\yein4\\Anaconda3\\lib\\site-packages\\seaborn\\_decorators.py:43: FutureWarning: Pass the following variables as keyword args: x, y. From version 0.12, the only valid positional argument will be `data`, and passing other arguments without an explicit keyword will result in an error or misinterpretation.\n",
            "  FutureWarning\n"
          ],
          "name": "stderr"
        },
        {
          "output_type": "execute_result",
          "data": {
            "text/plain": [
              "Text(10.395989583333332, 0.5, 'Y')"
            ]
          },
          "metadata": {
            "tags": []
          },
          "execution_count": 40
        },
        {
          "output_type": "display_data",
          "data": {
            "image/png": "[encoded data removed]",
            "text/plain": [
              "<Figure size 402.375x360 with 1 Axes>"
            ]
          },
          "metadata": {
            "tags": [],
            "needs_background": "light"
          }
        }
      ]
    },
    {
      "cell_type": "code",
      "metadata": {
        "id": "68febcd9"
      },
      "source": [
        ""
      ],
      "id": "68febcd9",
      "execution_count": null,
      "outputs": []
    }
  ]
}